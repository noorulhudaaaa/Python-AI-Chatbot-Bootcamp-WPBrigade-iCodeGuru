{
  "nbformat": 4,
  "nbformat_minor": 0,
  "metadata": {
    "colab": {
      "provenance": [],
      "toc_visible": true
    },
    "kernelspec": {
      "name": "python3",
      "display_name": "Python 3"
    },
    "language_info": {
      "name": "python"
    }
  },
  "cells": [
    {
      "cell_type": "markdown",
      "source": [
        " NumPy and Pandas Basics (ML Relevant)"
      ],
      "metadata": {
        "id": "eAjKgHW0oNPi"
      }
    },
    {
      "cell_type": "markdown",
      "source": [
        "# NumPy Basics\n",
        "\n",
        "Numpy library is used for numerical computations and data analysis. It provides support for large, multi-dimensional arrays and matrices , and is the foundation of most scientific computing in Python. Numpy arrays are similar to Python lists , but they are more efficient and provide additional functionality."
      ],
      "metadata": {
        "id": "OuMmKFuhoV5L"
      }
    },
    {
      "cell_type": "code",
      "source": [
        "# Importing numpy library\n",
        "import numpy as np\n",
        "\n",
        "# Makes an array\n",
        "myarr1 = np.array([2, 4, 6, 8])\n",
        "\n",
        "# Makes array of zeros, 4 * 4 array\n",
        "myarr2 = np.zeros((4, 4))\n",
        "\n",
        "# Makes an array of ones, 2 * 4 - 2 rows, 4 columns\n",
        "myarr3 = np.ones((2, 4))\n",
        "\n",
        "# Makes an array of 6 evenly spaced numbers between 1 and 4.5, you can write num= 6 aswell\n",
        "myarr4 = np.linspace(1, 4.5, 6)\n",
        "\n",
        "# Makes an array from 1 to 10 with 2 steps each\n",
        "myarr5 = np.arange(1, 10, 2)\n",
        "\n",
        "# Array of 8 elements\n",
        "myarr6 = np.arange(8)\n",
        "\n",
        "# Makes an array of any number you wants, with the rows and no of columns provided\n",
        "myarr9 = np.full((3, 4), 9)\n",
        "\n",
        "# Makies an identity matrix of your desired length, same no of cols and rows\n",
        "myarr10 = np.eye(5)\n",
        "\n",
        "# Empty array of provided row and columns, not initialized with real data, garbage data\n",
        "# You usually use it when you're going to fill the array yourself later.\n",
        "myarr11 = np.empty((3, 4))\n",
        "\n",
        "# Printing all arrays\n",
        "print(myarr1)\n",
        "print(myarr2)\n",
        "print(myarr3)\n",
        "print(myarr4)\n",
        "print(myarr5)\n",
        "print(myarr6)\n",
        "print(myarr9)\n",
        "print(myarr10)\n",
        "print(myarr11)\n"
      ],
      "metadata": {
        "colab": {
          "base_uri": "https://localhost:8080/"
        },
        "id": "XaOZ4_3boe3Z",
        "outputId": "0c73299e-1071-4494-e08d-d4f6c1a04fd9"
      },
      "execution_count": 73,
      "outputs": [
        {
          "output_type": "stream",
          "name": "stdout",
          "text": [
            "[2 4 6 8]\n",
            "[[0. 0. 0. 0.]\n",
            " [0. 0. 0. 0.]\n",
            " [0. 0. 0. 0.]\n",
            " [0. 0. 0. 0.]]\n",
            "[[1. 1. 1. 1.]\n",
            " [1. 1. 1. 1.]]\n",
            "[1.  1.7 2.4 3.1 3.8 4.5]\n",
            "[1 3 5 7 9]\n",
            "[0 1 2 3 4 5 6 7]\n",
            "[[9 9 9 9]\n",
            " [9 9 9 9]\n",
            " [9 9 9 9]]\n",
            "[[1. 0. 0. 0. 0.]\n",
            " [0. 1. 0. 0. 0.]\n",
            " [0. 0. 1. 0. 0.]\n",
            " [0. 0. 0. 1. 0.]\n",
            " [0. 0. 0. 0. 1.]]\n",
            "[[4.4e-323 4.4e-323 4.4e-323 4.4e-323]\n",
            " [4.4e-323 4.4e-323 4.4e-323 4.4e-323]\n",
            " [4.4e-323 4.4e-323 4.4e-323 4.4e-323]]\n"
          ]
        }
      ]
    },
    {
      "cell_type": "code",
      "source": [
        "# The endpoint = false will not include the last number -10 in the array\n",
        "\n",
        "myarr= np.linspace(0, -10, num = 6, endpoint = False)\n",
        "print(myarr)\n"
      ],
      "metadata": {
        "colab": {
          "base_uri": "https://localhost:8080/"
        },
        "id": "tz9GOXKhIKKW",
        "outputId": "2957a630-b334-44e7-a3cb-492ebf1f68a4"
      },
      "execution_count": 136,
      "outputs": [
        {
          "output_type": "stream",
          "name": "stdout",
          "text": [
            "[ 0.         -1.66666667 -3.33333333 -5.         -6.66666667 -8.33333333]\n"
          ]
        }
      ]
    },
    {
      "cell_type": "code",
      "source": [
        "# Defining datatype while creating an array\n",
        "myarr = np.array([2, 3, 6, 7, 9], dtype = np.float64)\n",
        "\n",
        "# printing array\n",
        "print(myarr)\n",
        "\n",
        "# Taking another array of 12 elements and defining its datatype as int64\n",
        "myArr = np.arange(12, dtype = np.int64)\n",
        "\n",
        "# Printing array\n",
        "print(myArr)"
      ],
      "metadata": {
        "colab": {
          "base_uri": "https://localhost:8080/"
        },
        "id": "vsy3n_TWo_jn",
        "outputId": "30785312-d197-436a-f4e2-57bc1e56311d"
      },
      "execution_count": 168,
      "outputs": [
        {
          "output_type": "stream",
          "name": "stdout",
          "text": [
            "[2. 3. 6. 7. 9.]\n",
            "[ 0  1  2  3  4  5  6  7  8  9 10 11]\n"
          ]
        }
      ]
    },
    {
      "cell_type": "markdown",
      "source": [
        "## 2 Dimensional Arrays"
      ],
      "metadata": {
        "id": "Lrpkw8VI9wW5"
      }
    },
    {
      "cell_type": "code",
      "source": [
        "# Creating array\n",
        "a = np.array([1,2,3,4,5,6]) # 1D array\n",
        "b = np.array([[1,2,3] , [4,5,6]]) # 2D array\n",
        "\n",
        "# Printing\n",
        "print(\"1D ARRAY \", a.shape)\n",
        "print(\"2D ARRAY \", b.shape)\n"
      ],
      "metadata": {
        "colab": {
          "base_uri": "https://localhost:8080/"
        },
        "id": "5Oi_bNJHAeUK",
        "outputId": "0d8d0001-5016-46e3-f35e-a2a5d92f1e36"
      },
      "execution_count": 62,
      "outputs": [
        {
          "output_type": "stream",
          "name": "stdout",
          "text": [
            "1D ARRAY  (6,)\n",
            "2D ARRAY  (2, 3)\n"
          ]
        }
      ]
    },
    {
      "cell_type": "code",
      "source": [
        "# 2 dimmensional array, makes your array 2 dimensional\n",
        "\n",
        "myarr7 = myarr1 [np.newaxis, :]\n",
        "print(myarr7)\n",
        "print(myarr7.shape)    # shows one block, and 4 columns\n",
        "print()\n",
        "\n",
        "myarr8 = myarr1 [:, np.newaxis]\n",
        "print(myarr8)\n",
        "print(myarr8.shape)    # shows 1 block and 4 rows, col 1 so no need to print\n"
      ],
      "metadata": {
        "colab": {
          "base_uri": "https://localhost:8080/"
        },
        "id": "RPUFjfE09zd9",
        "outputId": "9b5048a1-91bf-4b8d-f86e-6a34f9d9e304"
      },
      "execution_count": 59,
      "outputs": [
        {
          "output_type": "stream",
          "name": "stdout",
          "text": [
            "[[2 4 6 8]]\n",
            "(1, 4)\n",
            "\n",
            "[[2]\n",
            " [4]\n",
            " [6]\n",
            " [8]]\n",
            "(4, 1)\n"
          ]
        }
      ]
    },
    {
      "cell_type": "markdown",
      "source": [
        "## NumPy Properties"
      ],
      "metadata": {
        "id": "ftPzr7-rroa0"
      }
    },
    {
      "cell_type": "code",
      "source": [
        "# Making an array\n",
        "myarr = np.array([[1,2],[2,3],[3,4]])\n",
        "\n",
        "# Properties\n",
        "# Shows no of blocks if any, rows and columns\n",
        "print(\"Shape of array: \", myarr.shape)\n",
        "\n",
        "# Shows total number of dimensions , total []\n",
        "print(\"Dimensions: \", myarr.ndim)\n",
        "\n",
        "# Total elements inside\n",
        "print(\"Size: \", myarr.size)\n",
        "\n",
        "# Will count the length, the number of rows\n",
        "print(\"Length: \", len(myarr))\n"
      ],
      "metadata": {
        "colab": {
          "base_uri": "https://localhost:8080/"
        },
        "id": "dbtNcN4Hrjc5",
        "outputId": "a7d5e83a-b8d8-41c1-e08e-d5f26a920315"
      },
      "execution_count": 66,
      "outputs": [
        {
          "output_type": "stream",
          "name": "stdout",
          "text": [
            "Shape of array:  (3, 2)\n",
            "Dimensions:  2\n",
            "Size:  6\n",
            "Length:  3\n"
          ]
        }
      ]
    },
    {
      "cell_type": "markdown",
      "source": [
        "## Slicing and Indexing\n"
      ],
      "metadata": {
        "id": "PMFCHZd0Z-_T"
      }
    },
    {
      "cell_type": "code",
      "source": [
        "# Creating an array\n",
        "array1 = np.array([1,2,3,4,5,6])\n",
        "\n",
        "# Slicing\n",
        "print(array1[1 : 5])\n",
        "print(array1[1 : 6 : 2])\n",
        "print(array1[: 4])       # From start to 4 index\n",
        "print(array1[2 : ])      # From 2 index to end\n",
        "print(array1[ : ])       # Start to end\n",
        "print()\n",
        "\n",
        "# Indexing\n",
        "print(array1[1])\n",
        "print(array1[3])\n",
        "print(array1[-1])\n",
        ""
      ],
      "metadata": {
        "colab": {
          "base_uri": "https://localhost:8080/"
        },
        "id": "lDbq0qDbaCGH",
        "outputId": "465c0e03-c000-435a-e5b3-7e4e2dd0bb69"
      },
      "execution_count": 129,
      "outputs": [
        {
          "output_type": "stream",
          "name": "stdout",
          "text": [
            "[2 3 4 5]\n",
            "[2 4 6]\n",
            "[1 2 3 4]\n",
            "[3 4 5 6]\n",
            "[1 2 3 4 5 6]\n",
            "\n",
            "2\n",
            "4\n",
            "6\n"
          ]
        }
      ]
    },
    {
      "cell_type": "markdown",
      "source": [
        "## Indexing in 2D Array"
      ],
      "metadata": {
        "id": "Q-kEH_0tutWh"
      }
    },
    {
      "cell_type": "code",
      "source": [
        "# Making an array\n",
        "myarr = np.array([[1,2], [2,3], [3,4]])\n",
        "\n",
        "# Element at row 3 and column 1\n",
        "print(myarr[2, 1])\n",
        "\n",
        "# prints all rows in column 1\n",
        "print(myarr[:, 1])\n",
        "\n",
        "# Prints row 2 and all columns in it\n",
        "print(myarr[2, :])\n"
      ],
      "metadata": {
        "colab": {
          "base_uri": "https://localhost:8080/"
        },
        "id": "X-W4IIA9u0sC",
        "outputId": "2e2b4af7-af91-479e-8e1f-3d470da00210"
      },
      "execution_count": null,
      "outputs": [
        {
          "output_type": "stream",
          "name": "stdout",
          "text": [
            "4\n",
            "[2 3 4]\n",
            "[3 4]\n"
          ]
        }
      ]
    },
    {
      "cell_type": "markdown",
      "source": [
        "## Boolean Indexing"
      ],
      "metadata": {
        "id": "acDU0KawedJI"
      }
    },
    {
      "cell_type": "code",
      "source": [
        "# Creating an array\n",
        "arrayBool = np.array([2, 4, 17, 6, 8, 7, 9, 14, 16])\n",
        "\n",
        "# Condition\n",
        "arrayFinal = arrayBool < 10\n",
        "print(arrayFinal)\n",
        "\n",
        "# Indexing\n",
        "print(arrayBool[arrayFinal])\n"
      ],
      "metadata": {
        "colab": {
          "base_uri": "https://localhost:8080/"
        },
        "id": "o6OrlIqjejQ5",
        "outputId": "93416037-e119-44e9-b900-d0f89c3df7bc"
      },
      "execution_count": 140,
      "outputs": [
        {
          "output_type": "stream",
          "name": "stdout",
          "text": [
            "[ True  True False  True  True  True  True False False]\n",
            "[2 4 6 8 7 9]\n"
          ]
        }
      ]
    },
    {
      "cell_type": "code",
      "source": [
        "# Using two conditions\n",
        "# Creating an array\n",
        "arrayBool = np.array([2, 4, 17, 6, 8, 7, 9, 14, 16])\n",
        "\n",
        "# 2 Conditions\n",
        "result = (arrayBool <= 10) & (arrayBool >= 4)\n",
        "result1 = (arrayBool == 17) | (arrayBool < 6 )\n",
        "print(result)\n",
        "print(result1)\n",
        "\n",
        "# Indexing\n",
        "print(arrayBool[result])\n",
        "print(arrayBool[result1])\n",
        "print()\n",
        "\n",
        "# Condition for even\n",
        "evenNum = (arrayBool % 2 == 0)\n",
        "print(evenNum)\n",
        "print(arrayBool[evenNum])\n"
      ],
      "metadata": {
        "colab": {
          "base_uri": "https://localhost:8080/"
        },
        "id": "O_H4Umv6g-Ww",
        "outputId": "ad0e34ff-db00-4fb6-eb67-1aedded767ce"
      },
      "execution_count": 154,
      "outputs": [
        {
          "output_type": "stream",
          "name": "stdout",
          "text": [
            "[False  True False  True  True  True  True False False]\n",
            "[ True  True  True False False False False False False]\n",
            "[4 6 8 7 9]\n",
            "[ 2  4 17]\n",
            "\n",
            "[ True  True False  True  True False False  True  True]\n",
            "[ 2  4  6  8 14 16]\n"
          ]
        }
      ]
    },
    {
      "cell_type": "markdown",
      "source": [
        "## Sorting"
      ],
      "metadata": {
        "id": "m-HM4ShGNIli"
      }
    },
    {
      "cell_type": "code",
      "source": [
        "# Creating an array\n",
        "arr = np.array([3, 1, 7, 5, 9])\n",
        "print(\"Original Array: \", arr)\n",
        "\n",
        "# Sorting\n",
        "print(\"Sorted Array: \", np.sort(arr))\n",
        "\n",
        "# argsort returns the indices that would sort the array\n",
        "print(\"Indices that would sort the array: \", np.argsort(arr))\n"
      ],
      "metadata": {
        "colab": {
          "base_uri": "https://localhost:8080/"
        },
        "id": "NVIY4xmHNNkX",
        "outputId": "c2fbae82-8d75-482d-f670-72940e3bbbe7"
      },
      "execution_count": 91,
      "outputs": [
        {
          "output_type": "stream",
          "name": "stdout",
          "text": [
            "Original Array:  [3 1 7 5 9]\n",
            "Sorted Array:  [1 3 5 7 9]\n",
            "Indices that would sort the array:  [1 0 3 2 4]\n"
          ]
        }
      ]
    },
    {
      "cell_type": "markdown",
      "source": [
        "## Concatenation"
      ],
      "metadata": {
        "id": "G_WyPPeuO9uF"
      }
    },
    {
      "cell_type": "code",
      "source": [
        "# Creating 2 arrays\n",
        "\n",
        "arr1 = np.array([[1, 2, 3], [4, 5, 6]])\n",
        "arr2 = np.array([[7, 8, 9], [10, 11, 12]])\n",
        "\n",
        "# Concatenating\n",
        "finalArr = np.concatenate((arr1, arr2))\n",
        "print(\"Concatenated Array: \", finalArr)\n",
        "\n",
        "# Creating another 2 arrays\n",
        "arr3 = np.array([[13, 14, 15], [16, 17, 18]])\n",
        "arr4 = np.array([[19, 20, 21]])\n",
        "\n",
        "# Concatenating\n",
        "finalArray = np.concatenate((arr3, arr4))\n",
        "print(\"Concatenated Array: \", finalArray)\n"
      ],
      "metadata": {
        "colab": {
          "base_uri": "https://localhost:8080/"
        },
        "id": "_vtfLO9TPBqZ",
        "outputId": "3ccfe6b4-0234-49f5-bf47-84f16c3f5df8"
      },
      "execution_count": 99,
      "outputs": [
        {
          "output_type": "stream",
          "name": "stdout",
          "text": [
            "Concatenated Array:  [[ 1  2  3]\n",
            " [ 4  5  6]\n",
            " [ 7  8  9]\n",
            " [10 11 12]]\n",
            "Concatenated Array:  [[13 14 15]\n",
            " [16 17 18]\n",
            " [19 20 21]]\n"
          ]
        }
      ]
    },
    {
      "cell_type": "markdown",
      "source": [
        "## Mathmatical operations"
      ],
      "metadata": {
        "id": "_8S9CUBbxLhZ"
      }
    },
    {
      "cell_type": "code",
      "source": [
        "# Making 2 arrays\n",
        "x = np.array([[1, 2, 3],[4, 5, 6]])\n",
        "y = np.array([[4, 5, 6],[1, 2, 3]])\n",
        "\n",
        "# Addition\n",
        "print(\"Addition: \", x + y)\n",
        "\n",
        "# Subtraction\n",
        "print(\"Subtraction: \", x - y)\n",
        "\n",
        "# Multiplication\n",
        "print(\"Multiplication: \", x * y)\n",
        "\n",
        "# Division\n",
        "print(\"Division: \", x / y)\n",
        "\n",
        "# Dot product, taking transpose\n",
        "print(\"Dot product: \", np.dot(x, y.T))\n"
      ],
      "metadata": {
        "id": "0evpHghvxmm3",
        "colab": {
          "base_uri": "https://localhost:8080/"
        },
        "outputId": "8b655e52-876a-4433-c361-780d3e8786c6"
      },
      "execution_count": 28,
      "outputs": [
        {
          "output_type": "stream",
          "name": "stdout",
          "text": [
            "Addition:  [[5 7 9]\n",
            " [5 7 9]]\n",
            "Subtraction:  [[-3 -3 -3]\n",
            " [ 3  3  3]]\n",
            "Multiplication:  [[ 4 10 18]\n",
            " [ 4 10 18]]\n",
            "Division:  [[0.25 0.4  0.5 ]\n",
            " [4.   2.5  2.  ]]\n",
            "Dot product:  [[32 14]\n",
            " [77 32]]\n"
          ]
        }
      ]
    },
    {
      "cell_type": "code",
      "source": [
        "# Making an array of 6 elements\n",
        "x = np.arange(6)\n",
        "print(x)\n",
        "\n",
        "# Squaring\n",
        "y = x **2\n",
        "print(y)\n"
      ],
      "metadata": {
        "colab": {
          "base_uri": "https://localhost:8080/"
        },
        "id": "hAlDeLcGFyqS",
        "outputId": "55fe65a1-a902-40a1-f06c-1b636e386c7b"
      },
      "execution_count": 71,
      "outputs": [
        {
          "output_type": "stream",
          "name": "stdout",
          "text": [
            "[0 1 2 3 4 5]\n",
            "[ 0  1  4  9 16 25]\n"
          ]
        }
      ]
    },
    {
      "cell_type": "code",
      "source": [
        "# # Randon Numbers, gives randome numbers of 4 rows, 3 columns, each number btw 0 - 1\n",
        "\n",
        "print(\"Random Numbers btw 0 and 1: \", np.random.rand(4, 3))\n"
      ],
      "metadata": {
        "colab": {
          "base_uri": "https://localhost:8080/"
        },
        "id": "-yPowH3g0Ik0",
        "outputId": "d735474c-bf06-4b56-bc80-582da3acb2f4"
      },
      "execution_count": 33,
      "outputs": [
        {
          "output_type": "stream",
          "name": "stdout",
          "text": [
            "Random Numbers btw 0 and 1:  [[0.30303329 0.72645068 0.20712169]\n",
            " [0.59208061 0.69644353 0.46220174]\n",
            " [0.48237016 0.96057833 0.52554289]\n",
            " [0.53923346 0.86308229 0.07350583]]\n"
          ]
        }
      ]
    },
    {
      "cell_type": "markdown",
      "source": [
        "## Reshaping Arrays"
      ],
      "metadata": {
        "id": "nAkmD8Rx5hzu"
      }
    },
    {
      "cell_type": "code",
      "source": [
        "# Just like making a new array from an already existing one\n",
        "# Making an array\n",
        "myarr = np.array([1, 2, 3, 4, 5, 7])\n",
        "print(myarr)\n",
        "\n",
        "# Reshaping into privoded rows and columns\n",
        "print(\"Reshaped array: \", myarr.reshape(2, 3))\n",
        "print(\"Reshaped array: \", myarr.reshape(3, 2))\n",
        "print()\n",
        "\n",
        "myarr = np.arange(16)\n",
        "print(myarr)\n",
        "\n",
        "print(\"Reshaped array: \", myarr.reshape(4, 4))\n",
        "print(\"Reshaped array: \", myarr.reshape(2, 8))\n",
        "print(\"Reshaped array: \", myarr.reshape(8, 2))\n"
      ],
      "metadata": {
        "colab": {
          "base_uri": "https://localhost:8080/"
        },
        "id": "G2DQun9O5byY",
        "outputId": "66ab7a0b-d865-4a93-b76f-4d54965e7795"
      },
      "execution_count": 69,
      "outputs": [
        {
          "output_type": "stream",
          "name": "stdout",
          "text": [
            "[1 2 3 4 5 7]\n",
            "Reshaped array:  [[1 2 3]\n",
            " [4 5 7]]\n",
            "Reshaped array:  [[1 2]\n",
            " [3 4]\n",
            " [5 7]]\n",
            "\n",
            "[ 0  1  2  3  4  5  6  7  8  9 10 11 12 13 14 15]\n",
            "Reshaped array:  [[ 0  1  2  3]\n",
            " [ 4  5  6  7]\n",
            " [ 8  9 10 11]\n",
            " [12 13 14 15]]\n",
            "Reshaped array:  [[ 0  1  2  3  4  5  6  7]\n",
            " [ 8  9 10 11 12 13 14 15]]\n",
            "Reshaped array:  [[ 0  1]\n",
            " [ 2  3]\n",
            " [ 4  5]\n",
            " [ 6  7]\n",
            " [ 8  9]\n",
            " [10 11]\n",
            " [12 13]\n",
            " [14 15]]\n"
          ]
        }
      ]
    },
    {
      "cell_type": "markdown",
      "source": [
        "## vstack and hstack"
      ],
      "metadata": {
        "id": "k9Kc9a-RkW8U"
      }
    },
    {
      "cell_type": "code",
      "source": [
        "# Vstak puts multiple arrays vertically\n",
        "# Creating arrays\n",
        "arr1 = np.array([1, 2, 3])\n",
        "arr2 = np.array([4, 5, 6])\n",
        "arr3 = np.array([7, 8, 9])\n",
        "\n",
        "# Vstacking\n",
        "result= np.vstack((arr1, arr2, arr3))\n",
        "print(result)\n"
      ],
      "metadata": {
        "colab": {
          "base_uri": "https://localhost:8080/",
          "height": 228
        },
        "id": "70ebA1R-kawv",
        "outputId": "e2e7b213-434f-409b-95d6-30f83d6f1d6e"
      },
      "execution_count": 163,
      "outputs": [
        {
          "output_type": "stream",
          "name": "stdout",
          "text": [
            "[[1 2 3]\n",
            " [4 5 6]\n",
            " [7 8 9]]\n"
          ]
        },
        {
          "output_type": "error",
          "ename": "ValueError",
          "evalue": "cannot reshape array of size 9 into shape (4,2)",
          "traceback": [
            "\u001b[0;31m---------------------------------------------------------------------------\u001b[0m",
            "\u001b[0;31mValueError\u001b[0m                                Traceback (most recent call last)",
            "\u001b[0;32m/tmp/ipython-input-2095694167.py\u001b[0m in \u001b[0;36m<cell line: 0>\u001b[0;34m()\u001b[0m\n\u001b[1;32m      9\u001b[0m \u001b[0mprint\u001b[0m\u001b[0;34m(\u001b[0m\u001b[0mresult\u001b[0m\u001b[0;34m)\u001b[0m\u001b[0;34m\u001b[0m\u001b[0;34m\u001b[0m\u001b[0m\n\u001b[1;32m     10\u001b[0m \u001b[0;34m\u001b[0m\u001b[0m\n\u001b[0;32m---> 11\u001b[0;31m \u001b[0mprint\u001b[0m\u001b[0;34m(\u001b[0m\u001b[0mresult\u001b[0m\u001b[0;34m.\u001b[0m\u001b[0mreshape\u001b[0m\u001b[0;34m(\u001b[0m\u001b[0;34m(\u001b[0m\u001b[0;36m4\u001b[0m\u001b[0;34m,\u001b[0m \u001b[0;36m2\u001b[0m\u001b[0;34m)\u001b[0m\u001b[0;34m)\u001b[0m\u001b[0;34m)\u001b[0m\u001b[0;34m\u001b[0m\u001b[0;34m\u001b[0m\u001b[0m\n\u001b[0m",
            "\u001b[0;31mValueError\u001b[0m: cannot reshape array of size 9 into shape (4,2)"
          ]
        }
      ]
    },
    {
      "cell_type": "code",
      "source": [
        "# hstack puts multiple array horizontally\n",
        "# Creating arrays\n",
        "arr1 = np.array([1, 2])\n",
        "arr2 = np.array([4, 5])\n",
        "arr3 = np.array([7, 8])\n",
        "\n",
        "# hstacking\n",
        "result= np.hstack((arr1, arr2, arr3))\n",
        "print(result)\n",
        "print()\n",
        "\n",
        "print(\"Reshaped: \", result.reshape((3, 2)))"
      ],
      "metadata": {
        "colab": {
          "base_uri": "https://localhost:8080/"
        },
        "id": "SPW7P39PlO3U",
        "outputId": "dd1da117-eaad-4be9-a640-e01af0594eca"
      },
      "execution_count": 167,
      "outputs": [
        {
          "output_type": "stream",
          "name": "stdout",
          "text": [
            "[1 2 4 5 7 8]\n",
            "\n",
            "Reshaped:  [[1 2]\n",
            " [4 5]\n",
            " [7 8]]\n"
          ]
        }
      ]
    },
    {
      "cell_type": "markdown",
      "source": [
        "## 3 Dimensional Arrays"
      ],
      "metadata": {
        "id": "EfP3CfTFRb6A"
      }
    },
    {
      "cell_type": "code",
      "source": [
        "# Creating a 3 dimensional array\n",
        "array3d = np.array([\n",
        "    [[1, 2, 3], [7, 8, 9]],\n",
        "                 [[3, 4, 5], [6, 7, 8]],\n",
        "                  [[5, 6, 7], [8, 9, 10]]\n",
        "                    ])\n",
        "print(array3d)"
      ],
      "metadata": {
        "colab": {
          "base_uri": "https://localhost:8080/"
        },
        "id": "ZSA8lL0IRg_R",
        "outputId": "4290360d-06d3-485d-dd02-82bb475b62d8"
      },
      "execution_count": 100,
      "outputs": [
        {
          "output_type": "stream",
          "name": "stdout",
          "text": [
            "[[[ 1  2  3]\n",
            "  [ 7  8  9]]\n",
            "\n",
            " [[ 3  4  5]\n",
            "  [ 6  7  8]]\n",
            "\n",
            " [[ 5  6  7]\n",
            "  [ 8  9 10]]]\n"
          ]
        }
      ]
    },
    {
      "cell_type": "code",
      "source": [
        "# Checking properties for this 3d array\n",
        "print(\"Shape of array: \", array3d.shape)\n",
        "print(\"Dimensions: \", array3d.ndim)\n",
        "print(\"Size: \", array3d.size)\n",
        "print(\"Length: \", len(array3d))\n",
        "print()\n",
        "\n",
        "# Reshaping\n",
        "print(\"Reshaed array: \", array3d.reshape(3, 3, 2))\n",
        "print(\"Reshaped array: \", array3d.reshape(2, 3, 3))\n"
      ],
      "metadata": {
        "colab": {
          "base_uri": "https://localhost:8080/"
        },
        "id": "L-oYt4sJSZEv",
        "outputId": "17266127-840e-47b7-c273-4b77976e7633"
      },
      "execution_count": 109,
      "outputs": [
        {
          "output_type": "stream",
          "name": "stdout",
          "text": [
            "Shape of array:  (3, 2, 3)\n",
            "Dimensions:  3\n",
            "Size:  18\n",
            "Length:  3\n",
            "\n",
            "Reshaed array:  [[[ 1  2]\n",
            "  [ 3  7]\n",
            "  [ 8  9]]\n",
            "\n",
            " [[ 3  4]\n",
            "  [ 5  6]\n",
            "  [ 7  8]]\n",
            "\n",
            " [[ 5  6]\n",
            "  [ 7  8]\n",
            "  [ 9 10]]]\n",
            "Reshaped array:  [[[ 1  2  3]\n",
            "  [ 7  8  9]\n",
            "  [ 3  4  5]]\n",
            "\n",
            " [[ 6  7  8]\n",
            "  [ 5  6  7]\n",
            "  [ 8  9 10]]]\n"
          ]
        }
      ]
    },
    {
      "cell_type": "markdown",
      "source": [
        "## Indexing in 3D Arrays"
      ],
      "metadata": {
        "id": "e0RB0JLjdKkv"
      }
    },
    {
      "cell_type": "code",
      "source": [
        "# Creating a 3d Array\n",
        "array3 = np.array([\n",
        "    [[1,2,3], [4,5,6]],\n",
        "   [[7,8,9], [10,11,12]]\n",
        "    ])\n",
        "\n",
        "# Printing array\n",
        "print(array3)\n",
        "\n",
        "# Slicing and indexing in 3d array\n",
        "print(array3[0,1,2])          # Block at index 0, row 1, column 2\n",
        "print(array3[1,0,2])          # Block at index 1, row 0, column 2\n",
        "print(array3[0,0,1])          # Block at index 0, row 0, column 1\n",
        "print(array3[1,1,0])          # Block at index 1, row 1, column 0\n"
      ],
      "metadata": {
        "colab": {
          "base_uri": "https://localhost:8080/"
        },
        "id": "9IsAuc4cdP9p",
        "outputId": "87fd1ce8-5a15-43c7-e012-9979b06c23b6"
      },
      "execution_count": 134,
      "outputs": [
        {
          "output_type": "stream",
          "name": "stdout",
          "text": [
            "[[[ 1  2  3]\n",
            "  [ 4  5  6]]\n",
            "\n",
            " [[ 7  8  9]\n",
            "  [10 11 12]]]\n",
            "6\n",
            "9\n",
            "2\n",
            "10\n"
          ]
        }
      ]
    },
    {
      "cell_type": "markdown",
      "source": [
        "## Conversion from 3D to 2D"
      ],
      "metadata": {
        "id": "KZ-72tlyVnzm"
      }
    },
    {
      "cell_type": "code",
      "source": [
        "# Converting 3d to 2d with 2 columns\n",
        "array2d = array3d.reshape(-1, 2)\n",
        "\n",
        "# Printing\n",
        "print(array2d)\n",
        "\n",
        "# Converting 2d to a single simple array\n",
        "array1d = array2d.reshape(-1)\n",
        "\n",
        "# Practice\n",
        "print(array1d)\n",
        "print(np.sort(array1d))\n"
      ],
      "metadata": {
        "colab": {
          "base_uri": "https://localhost:8080/"
        },
        "id": "_dqe0oqbVu9O",
        "outputId": "de1d4bec-0a24-41d8-efd9-9bc431ba3e47"
      },
      "execution_count": 120,
      "outputs": [
        {
          "output_type": "stream",
          "name": "stdout",
          "text": [
            "[[ 1  2]\n",
            " [ 3  7]\n",
            " [ 8  9]\n",
            " [ 3  4]\n",
            " [ 5  6]\n",
            " [ 7  8]\n",
            " [ 5  6]\n",
            " [ 7  8]\n",
            " [ 9 10]]\n",
            "[ 1  2  3  7  8  9  3  4  5  6  7  8  5  6  7  8  9 10]\n",
            "[ 1  2  3  3  4  5  5  6  6  7  7  7  8  8  8  9  9 10]\n"
          ]
        }
      ]
    },
    {
      "cell_type": "markdown",
      "source": [
        "## Matrices / Matrix"
      ],
      "metadata": {
        "id": "D0yVSeNrLoYO"
      }
    },
    {
      "cell_type": "code",
      "source": [
        "# Creating arrays\n",
        "arr1 = np.array([[1,2,3,4,5],[6,7,8,9,10]])\n",
        "print(arr1)\n",
        "print()\n",
        "\n",
        "# Creating array and defining it rows and columns side by side\n",
        "arr2 = np.arange(1, 60, 3). reshape(4, 5)\n",
        "print(arr2)\n"
      ],
      "metadata": {
        "colab": {
          "base_uri": "https://localhost:8080/"
        },
        "id": "q2tcVMMjpF7F",
        "outputId": "5c168663-ac9f-46d6-92a9-4951028652ff"
      },
      "execution_count": 172,
      "outputs": [
        {
          "output_type": "stream",
          "name": "stdout",
          "text": [
            "[[ 1  2  3  4  5]\n",
            " [ 6  7  8  9 10]]\n",
            "\n",
            "[[ 1  4  7 10 13]\n",
            " [16 19 22 25 28]\n",
            " [31 34 37 40 43]\n",
            " [46 49 52 55 58]]\n"
          ]
        },
        {
          "output_type": "execute_result",
          "data": {
            "text/plain": [
              "array([[ 1,  2,  3,  4,  5],\n",
              "       [ 6,  7,  8,  9, 10]])"
            ]
          },
          "metadata": {},
          "execution_count": 172
        }
      ]
    },
    {
      "cell_type": "code",
      "source": [
        "# Slicing of this 2d Matrix\n",
        "\n",
        "print(arr2[:])        # From start to the end\n",
        "print()\n",
        "print(arr2[2:])        # From row index 2 to the last\n",
        "print()\n",
        "print(arr2[1:, :])       # for row part, from index 1 to end, for column, all columns\n",
        "print()\n",
        "print(arr2[1:3, :])       # for rows, index 1-3, fo columns, all columns\n"
      ],
      "metadata": {
        "colab": {
          "base_uri": "https://localhost:8080/"
        },
        "id": "Mq89Y7GdqChA",
        "outputId": "6c654156-0754-48da-fc67-08b430d71875"
      },
      "execution_count": 180,
      "outputs": [
        {
          "output_type": "stream",
          "name": "stdout",
          "text": [
            "[[ 1  4  7 10 13]\n",
            " [16 19 22 25 28]\n",
            " [31 34 37 40 43]\n",
            " [46 49 52 55 58]]\n",
            "\n",
            "[[31 34 37 40 43]\n",
            " [46 49 52 55 58]]\n",
            "\n",
            "[[16 19 22 25 28]\n",
            " [31 34 37 40 43]\n",
            " [46 49 52 55 58]]\n",
            "\n",
            "[[16 19 22 25 28]\n",
            " [31 34 37 40 43]]\n"
          ]
        }
      ]
    },
    {
      "cell_type": "code",
      "source": [
        "# For row part, from index 2-3 and for column part, from index 2-4\n",
        "print(arr2[2:3, 2:4])\n",
        "print()\n",
        "\n",
        "# For row, fro index 0-2, for column part from index 2 to the end\n",
        "print(arr2[0:2, 2:])\n",
        "print()\n",
        "\n",
        "# For rows, index 1-3, for columns index 3-5\n",
        "final = arr2[1:3, 3:5]\n",
        "print(final)\n"
      ],
      "metadata": {
        "colab": {
          "base_uri": "https://localhost:8080/"
        },
        "id": "CzFG9PxLsEuT",
        "outputId": "070c3dbb-eb21-4f9d-a49c-23d17ec5183d"
      },
      "execution_count": 187,
      "outputs": [
        {
          "output_type": "stream",
          "name": "stdout",
          "text": [
            "[[37 40]]\n",
            "\n",
            "[[ 7 10 13]\n",
            " [22 25 28]]\n",
            "\n",
            "[[25 28]\n",
            " [40 43]]\n"
          ]
        }
      ]
    },
    {
      "cell_type": "code",
      "source": [
        "# Finding min max sum mean\n",
        "print(final)\n",
        "print()\n",
        "\n",
        "# Finding Max\n",
        "print(\"Max: \", final.max())\n",
        "print(\"Max at 0 axis: \", final.max(axis=0))    # maximum value in each column, axis = 0 refers to columns\n",
        "\n",
        "# Finding min\n",
        "print(\"Min: \", final.min())\n",
        "print(\"Min at 1 axis: \", final.min(axis=1))   # Smallest value in each row, axis = 1 refers to rows\n",
        "\n",
        "# Finding Sum\n",
        "print(\"Sum: \", final.sum())\n",
        "\n",
        "# Finding Mean\n",
        "print(\"Mode: \", final.mean())\n"
      ],
      "metadata": {
        "colab": {
          "base_uri": "https://localhost:8080/"
        },
        "id": "EcWpQhV9sTCF",
        "outputId": "2c8afd66-8d17-4b4f-b479-ef6499f66af9"
      },
      "execution_count": 203,
      "outputs": [
        {
          "output_type": "stream",
          "name": "stdout",
          "text": [
            "[[25 28]\n",
            " [40 43]]\n",
            "\n",
            "Max:  43\n",
            "Max at 0 axis:  [40 43]\n",
            "Min:  25\n",
            "Min at 1 axis:  [25 40]\n",
            "Sum:  136\n",
            "Mode:  34.0\n"
          ]
        }
      ]
    },
    {
      "cell_type": "markdown",
      "source": [
        "## Broadcasting in Matrices"
      ],
      "metadata": {
        "id": "Z2rSbOcfxY0Z"
      }
    },
    {
      "cell_type": "code",
      "source": [
        "# Creating an array\n",
        "arrayF = np.arange(0, 40, 5).reshape(4,2)\n",
        "print(arrayF)\n",
        "print()\n",
        "\n",
        "# Add 2 to whole column at index 0, and 5 to whole column at index 1\n",
        "print(arrayF + np.array([2, 5]))\n",
        "print()\n",
        "print(arrayF + np.array([5, 8]))\n"
      ],
      "metadata": {
        "colab": {
          "base_uri": "https://localhost:8080/"
        },
        "id": "0g5XNmTlwjq_",
        "outputId": "2ac1de66-b560-45f2-dc9a-fcc0382e6942"
      },
      "execution_count": 217,
      "outputs": [
        {
          "output_type": "stream",
          "name": "stdout",
          "text": [
            "[[ 0  5]\n",
            " [10 15]\n",
            " [20 25]\n",
            " [30 35]]\n",
            "\n",
            "[[ 2 10]\n",
            " [12 20]\n",
            " [22 30]\n",
            " [32 40]]\n",
            "\n",
            "[[ 5 13]\n",
            " [15 23]\n",
            " [25 33]\n",
            " [35 43]]\n"
          ]
        }
      ]
    },
    {
      "cell_type": "code",
      "source": [
        "# vstack and hstack\n",
        "\n",
        "print(\"Vstacking: \", np.vstack(arrayF + np.array([2, 5])))\n",
        "print()\n",
        "\n",
        "print(\"Hstacking: \", np.hstack(arrayF + np.array([2, 5])))\n"
      ],
      "metadata": {
        "colab": {
          "base_uri": "https://localhost:8080/"
        },
        "id": "YWkBdT2zyUTp",
        "outputId": "aa77370f-eaed-4c73-a7cf-6df623d21339"
      },
      "execution_count": 222,
      "outputs": [
        {
          "output_type": "stream",
          "name": "stdout",
          "text": [
            "Vstacking:  [[ 2 10]\n",
            " [12 20]\n",
            " [22 30]\n",
            " [32 40]]\n",
            "\n",
            "Hstacking:  [ 2 10 12 20 22 30 32 40]\n"
          ]
        }
      ]
    },
    {
      "cell_type": "code",
      "source": [
        "# Generating random numbers\n",
        "# Importing random library\n",
        "import random\n",
        "\n",
        "# Generating 10 random numbers from 1-100\n",
        "randNum = [random.randint(1, 50) for i in range(20)]\n",
        "print(randNum)\n"
      ],
      "metadata": {
        "colab": {
          "base_uri": "https://localhost:8080/"
        },
        "id": "NrLFSgRdzKhm",
        "outputId": "4706823f-7566-4e83-febc-ef26987b3486"
      },
      "execution_count": 228,
      "outputs": [
        {
          "output_type": "stream",
          "name": "stdout",
          "text": [
            "[6, 15, 12, 22, 7, 4, 14, 14, 3, 12, 20, 6, 14, 48, 47, 37, 27, 23, 39, 9]\n"
          ]
        }
      ]
    },
    {
      "cell_type": "code",
      "source": [
        "# Can be done using numpy, makes it easier\n",
        "\n",
        "randNum = np.random.randint(1, 51, size=20)\n",
        "print(randNum)\n"
      ],
      "metadata": {
        "colab": {
          "base_uri": "https://localhost:8080/"
        },
        "id": "-C2FS4duz7_5",
        "outputId": "1f2df467-6434-4ebf-f97e-19cf47ec1a10"
      },
      "execution_count": 230,
      "outputs": [
        {
          "output_type": "stream",
          "name": "stdout",
          "text": [
            "[19 26 46 39 40 27 20 46 40 30 14  9 42 17 35 45 44 13 46 24]\n"
          ]
        }
      ]
    }
  ]
}