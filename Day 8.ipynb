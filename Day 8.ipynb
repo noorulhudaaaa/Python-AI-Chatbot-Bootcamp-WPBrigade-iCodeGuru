{
  "nbformat": 4,
  "nbformat_minor": 0,
  "metadata": {
    "colab": {
      "provenance": [],
      "toc_visible": true,
      "authorship_tag": "ABX9TyNoy2h95nAgHD6NnoADgKk7",
      "include_colab_link": true
    },
    "kernelspec": {
      "name": "python3",
      "display_name": "Python 3"
    },
    "language_info": {
      "name": "python"
    }
  },
  "cells": [
    {
      "cell_type": "markdown",
      "metadata": {
        "id": "view-in-github",
        "colab_type": "text"
      },
      "source": [
        "<a href=\"https://colab.research.google.com/github/noorulhudaaaa/Python-AI-Chatbot-Bootcamp-WPBrigade-iCodeGuru/blob/main/Day%208.ipynb\" target=\"_parent\"><img src=\"https://colab.research.google.com/assets/colab-badge.svg\" alt=\"Open In Colab\"/></a>"
      ]
    },
    {
      "cell_type": "markdown",
      "source": [
        "# Machine Learning Basics\n",
        "Machine Learning means teaching computers to learn from data, so they can make decisions or predictions without being told exactly what to do.\n",
        "- Instead of programming rules step by step...\n",
        "\n",
        "- You give the computer examples (data), and it learns the pattern."
      ],
      "metadata": {
        "id": "CW7yfI0RefHN"
      }
    },
    {
      "cell_type": "code",
      "source": [
        "# importing libraries\n",
        "import pandas as pd\n",
        "\n",
        "# using sklearn for Machine learning\n",
        "# using labelEncoder for encoding catagorical labels\n",
        "from sklearn.preprocessing import LabelEncoder\n"
      ],
      "metadata": {
        "id": "GEx4nDYCei4a"
      },
      "execution_count": 3,
      "outputs": []
    },
    {
      "cell_type": "markdown",
      "source": [
        "## Encoding"
      ],
      "metadata": {
        "id": "9Td8LCV9-oLK"
      }
    },
    {
      "cell_type": "markdown",
      "source": [
        "#### LabelEncoder"
      ],
      "metadata": {
        "id": "6huird3Z3ji8"
      }
    },
    {
      "cell_type": "code",
      "source": [
        "# Making a dataframe\n",
        "df = pd.DataFrame({\n",
        "    'size': ['Small', 'Medium', 'Large', 'Extra-Small', 'Extra-large', 'Medium', 'Small']\n",
        "})\n",
        "\n",
        "print(\"Data:\\n \", df)\n"
      ],
      "metadata": {
        "colab": {
          "base_uri": "https://localhost:8080/"
        },
        "id": "4-WmTSdhwwqm",
        "outputId": "6b65277a-efd9-4f52-fb17-9199214e73d9"
      },
      "execution_count": 5,
      "outputs": [
        {
          "output_type": "stream",
          "name": "stdout",
          "text": [
            "Data:\n",
            "            size\n",
            "0        Small\n",
            "1       Medium\n",
            "2        Large\n",
            "3  Extra-Small\n",
            "4  Extra-large\n",
            "5       Medium\n",
            "6        Small\n"
          ]
        }
      ]
    },
    {
      "cell_type": "code",
      "source": [
        "# Encoding the catagories\n",
        "le = LabelEncoder()\n",
        "df['size_Label'] = le.fit_transform(df['size'])\n",
        "\n",
        "# Printing it out\n",
        "print(\"Size After Encoding:\\n \", df)\n"
      ],
      "metadata": {
        "colab": {
          "base_uri": "https://localhost:8080/"
        },
        "id": "HHJOEKmmxnAl",
        "outputId": "22b2da55-975b-4974-e0f5-d0523dafa47b"
      },
      "execution_count": 6,
      "outputs": [
        {
          "output_type": "stream",
          "name": "stdout",
          "text": [
            "Size After Encoding:\n",
            "            size  size_Label\n",
            "0        Small           4\n",
            "1       Medium           3\n",
            "2        Large           2\n",
            "3  Extra-Small           0\n",
            "4  Extra-large           1\n",
            "5       Medium           3\n",
            "6        Small           4\n"
          ]
        }
      ]
    },
    {
      "cell_type": "markdown",
      "source": [
        "#### One Hot Encoder"
      ],
      "metadata": {
        "id": "BjGUNZru3pxT"
      }
    },
    {
      "cell_type": "code",
      "source": [
        "# Making a dataframe\n",
        "df = pd.DataFrame({\n",
        "    'color': ['Red', 'Blue', 'Green', 'Blue', 'Red', 'Blue', 'Green']\n",
        "})\n",
        "\n",
        "# Printing\n",
        "print(\"Data:\\n \", df)\n"
      ],
      "metadata": {
        "colab": {
          "base_uri": "https://localhost:8080/"
        },
        "id": "ZXe3uDsB2zLY",
        "outputId": "ff3df023-fcaf-4c1c-c590-c343acfc0bf8"
      },
      "execution_count": 8,
      "outputs": [
        {
          "output_type": "stream",
          "name": "stdout",
          "text": [
            "Data:\n",
            "     color\n",
            "0    Red\n",
            "1   Blue\n",
            "2  Green\n",
            "3   Blue\n",
            "4    Red\n",
            "5   Blue\n",
            "6  Green\n"
          ]
        }
      ]
    },
    {
      "cell_type": "code",
      "source": [
        "# Doing the one hot encoding\n",
        "df = pd.get_dummies(df, columns = ['color'])\n",
        "\n",
        "# Printing\n",
        "print(\"Color After One Hot Encoding:\\n\", df)\n"
      ],
      "metadata": {
        "colab": {
          "base_uri": "https://localhost:8080/"
        },
        "id": "Uyu2gkDC37vx",
        "outputId": "6c7592a7-0091-41b3-d751-e58105b87130"
      },
      "execution_count": 9,
      "outputs": [
        {
          "output_type": "stream",
          "name": "stdout",
          "text": [
            "Color After One Hot Encoding:\n",
            "    color_Blue  color_Green  color_Red\n",
            "0       False        False       True\n",
            "1        True        False      False\n",
            "2       False         True      False\n",
            "3        True        False      False\n",
            "4       False        False       True\n",
            "5        True        False      False\n",
            "6       False         True      False\n"
          ]
        }
      ]
    },
    {
      "cell_type": "markdown",
      "source": [
        "## Feature Scaling\n",
        "Feature Scaling means adjusting the values in your data so that all features are on a similar scale.\n",
        "\n",
        "#### For example\n",
        "\n",
        "- If one column has values like 1, 2, 3 and another has 1000, 2000, 3000, the bigger numbers can dominate the results.\n",
        "- Feature scaling balances them so the model treats them fairly."
      ],
      "metadata": {
        "id": "BM5rngtJ-ewD"
      }
    },
    {
      "cell_type": "code",
      "source": [
        "# Importing libraries\n",
        "import pandas as pd\n",
        "from sklearn.preprocessing import MinMaxScaler\n"
      ],
      "metadata": {
        "id": "tc7tdG6XM9ej"
      },
      "execution_count": 10,
      "outputs": []
    },
    {
      "cell_type": "code",
      "source": [
        "# Making a dummy dataframe\n",
        "df = pd.DataFrame({\n",
        "    'Age': [20, 30, 40],\n",
        "    'Salary': [10000, 20000, 30000]\n",
        "})\n",
        "\n",
        "# Printing\n",
        "print(\"Original Data:\\n\", df)\n"
      ],
      "metadata": {
        "colab": {
          "base_uri": "https://localhost:8080/"
        },
        "id": "_tnqM842M0tE",
        "outputId": "9ab72367-eff2-40a3-8094-fce3ba3056db"
      },
      "execution_count": 24,
      "outputs": [
        {
          "output_type": "stream",
          "name": "stdout",
          "text": [
            "Original Data:\n",
            "    Age  Salary\n",
            "0   20   10000\n",
            "1   30   20000\n",
            "2   40   30000\n"
          ]
        }
      ]
    },
    {
      "cell_type": "code",
      "source": [
        "# Doing minmaxscaler\n",
        "scaler = MinMaxScaler()\n",
        "df = pd.DataFrame(scaler.fit_transform(df), columns = df.columns)\n",
        "\n",
        "# Printing\n",
        "print(\"Data After Feature Scaling:\\n\",df)\n"
      ],
      "metadata": {
        "colab": {
          "base_uri": "https://localhost:8080/"
        },
        "id": "vA3MprruO72q",
        "outputId": "4b7a1c48-ea20-4c51-a369-c56296e78e24"
      },
      "execution_count": 22,
      "outputs": [
        {
          "output_type": "stream",
          "name": "stdout",
          "text": [
            "Data After Feature Scaling:\n",
            "    Age  Salary\n",
            "0  0.0     0.0\n",
            "1  0.5     0.5\n",
            "2  1.0     1.0\n"
          ]
        }
      ]
    },
    {
      "cell_type": "markdown",
      "source": [
        "## Standardization"
      ],
      "metadata": {
        "id": "UwWuopOpa2zZ"
      }
    },
    {
      "cell_type": "code",
      "source": [
        "# Importing libraries\n",
        "import pandas as pd\n",
        "from sklearn.preprocessing import StandardScaler"
      ],
      "metadata": {
        "id": "tL6KtPxYa7I1"
      },
      "execution_count": 25,
      "outputs": []
    },
    {
      "cell_type": "code",
      "source": [
        "# Making a dummy dataframe\n",
        "df = pd.DataFrame({\n",
        "    'Age': [20, 30, 40],\n",
        "    'Salary': [10000, 20000, 30000]\n",
        "})\n",
        "\n",
        "# Printing\n",
        "print(\"Original Data:\\n\", df)\n"
      ],
      "metadata": {
        "id": "gFIACSPHa59B"
      },
      "execution_count": null,
      "outputs": []
    },
    {
      "cell_type": "code",
      "source": [
        "# Doing Standard Scaler\n",
        "standard = StandardScaler()\n",
        "df = pd.DataFrame(standard.fit_transform(df), columns = df.columns)\n",
        "\n",
        "# Printing\n",
        "print(\"Data After Standardization:\\n\",df)\n"
      ],
      "metadata": {
        "colab": {
          "base_uri": "https://localhost:8080/"
        },
        "id": "drLPzotDbJbz",
        "outputId": "f1e43cf0-a0a9-4312-f0aa-5ec7eac60e99"
      },
      "execution_count": 26,
      "outputs": [
        {
          "output_type": "stream",
          "name": "stdout",
          "text": [
            "Data After Standardization:\n",
            "         Age    Salary\n",
            "0 -1.224745 -1.224745\n",
            "1  0.000000  0.000000\n",
            "2  1.224745  1.224745\n"
          ]
        }
      ]
    },
    {
      "cell_type": "markdown",
      "source": [
        "## Outlier\n",
        "\n"
      ],
      "metadata": {
        "id": "liVCzNpobebH"
      }
    },
    {
      "cell_type": "code",
      "source": [
        "# Importing libraries\n",
        "import pandas as pd\n",
        "import matplotlib.pyplot as plt\n",
        "import seaborn as sns\n"
      ],
      "metadata": {
        "id": "p9cOat_ebn4U"
      },
      "execution_count": 27,
      "outputs": []
    },
    {
      "cell_type": "code",
      "source": [
        "df = pd.DataFrame({\n",
        "    'Marks': [20, 30, 40, 50, 100]\n",
        "})\n",
        "\n",
        "# Making a boxplot\n",
        "sns.boxplot(df, y='Marks')\n",
        "\n",
        "# Showing the plot\n",
        "plt.show()"
      ],
      "metadata": {
        "colab": {
          "base_uri": "https://localhost:8080/",
          "height": 411
        },
        "id": "KzHbws42byx1",
        "outputId": "9aaec16c-c096-44cf-cc5f-90212ff53d89"
      },
      "execution_count": 46,
      "outputs": [
        {
          "output_type": "display_data",
          "data": {
            "text/plain": [
              "<Figure size 640x480 with 1 Axes>"
            ],
            "image/png": "[encoded data removed]"
          },
          "metadata": {}
        }
      ]
    },
    {
      "cell_type": "markdown",
      "source": [
        "## IQR\n",
        "IQR tells us how spread out the middle part of the data is.\n",
        "It shows the range between the middle 50% of values.\n",
        "\n",
        "- You sort your data from smallest to largest.\n",
        "\n",
        "- Then you split it into 4 parts (called quartiles).\n",
        "\n",
        "- The middle 50% is between Q1 (25%) and Q3 (75%)."
      ],
      "metadata": {
        "id": "bHk2UWJMc85l"
      }
    },
    {
      "cell_type": "markdown",
      "source": [
        "IQR = Q3 - Q1\n",
        "\n",
        "Q1 = 25th percentile (first quartile)\n",
        "\n",
        "Q3 = 75th percentile (third quartile)\n",
        "\n",
        "So, IQR is the range of the middle 50% of your data.\n",
        "\n",
        "📏 IQR Rule for Outliers:\n",
        "Any value that falls too far outside the middle 50% is considered an outlier.\n",
        "\n",
        "🧠 Rule:\n",
        "Lower limit = Q1 − 1.5 × IQR\n",
        "\n",
        "Upper limit = Q3 + 1.5 × IQR\n",
        "\n"
      ],
      "metadata": {
        "id": "0Nnkn6p_fIeN"
      }
    },
    {
      "cell_type": "code",
      "source": [
        "# Finding Q1 and Q2\n",
        "Q1 = df['Marks'].quantile(0.25)\n",
        "Q3 = df['Marks'].quantile(0.75)\n",
        "\n",
        "IQR = Q3 - Q1\n",
        "\n",
        "# Printing\n",
        "print(\"Q1: \", Q1)\n",
        "print(\"Q3: \", Q3)\n",
        "print(\"IQR: \", IQR)\n"
      ],
      "metadata": {
        "colab": {
          "base_uri": "https://localhost:8080/"
        },
        "id": "qB4ocsYOgQDg",
        "outputId": "45383668-82ac-49ed-8483-109044db9984"
      },
      "execution_count": 47,
      "outputs": [
        {
          "output_type": "stream",
          "name": "stdout",
          "text": [
            "Q1:  30.0\n",
            "Q3:  50.0\n",
            "IQR:  20.0\n"
          ]
        }
      ]
    },
    {
      "cell_type": "code",
      "source": [
        "# Taking the outlier out\n",
        "outliers = df[(df['Marks'] < (Q1 - 1.5 * IQR)) | (df['Marks'] > Q3 + 1.5 * IQR)]\n",
        "\n",
        "# Printing outliers\n",
        "print(\"Outlier is : \", outliers)\n"
      ],
      "metadata": {
        "colab": {
          "base_uri": "https://localhost:8080/"
        },
        "id": "tQnhYBtBgzXZ",
        "outputId": "6f45d796-99ad-4b0d-be57-5edb5bd771b5"
      },
      "execution_count": 48,
      "outputs": [
        {
          "output_type": "stream",
          "name": "stdout",
          "text": [
            "Outlier is :     Marks\n",
            "4    100\n"
          ]
        }
      ]
    }
  ]
}