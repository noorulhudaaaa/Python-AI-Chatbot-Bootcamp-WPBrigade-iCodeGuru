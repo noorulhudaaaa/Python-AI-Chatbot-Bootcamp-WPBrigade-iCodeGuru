{
  "nbformat": 4,
  "nbformat_minor": 0,
  "metadata": {
    "colab": {
      "provenance": [],
      "gpuType": "T4",
      "toc_visible": true
    },
    "kernelspec": {
      "name": "python3",
      "display_name": "Python 3"
    },
    "language_info": {
      "name": "python"
    },
    "accelerator": "GPU"
  },
  "cells": [
    {
      "cell_type": "markdown",
      "source": [
        "# Comments\n",
        "\n",
        "- Comments can be used to explain Python code.\n",
        "- They can be used to make the code more readable and to prevent execution when testing code.\n"
      ],
      "metadata": {
        "id": "aXfO7U-9DB4_"
      }
    },
    {
      "cell_type": "code",
      "source": [
        "# this is a comment\n",
        "# Now we will make a list\n",
        "\n",
        "''' this is a multi line comment\n",
        "can add as many lines as you want\n",
        "and when you want to end the comment, close it with 3 '\n",
        "\n",
        "'''"
      ],
      "metadata": {
        "id": "tm3UGdsl1cB7",
        "outputId": "f52ea635-a3fe-4974-b87f-4c07388c057d",
        "colab": {
          "base_uri": "https://localhost:8080/",
          "height": 53
        }
      },
      "execution_count": null,
      "outputs": [
        {
          "output_type": "execute_result",
          "data": {
            "text/plain": [
              "\" this is a multi line comment\\ncan add as many lines as you want \\nand when you want to end the comment, close it with 3 '\\n\\n\""
            ],
            "application/vnd.google.colaboratory.intrinsic+json": {
              "type": "string"
            }
          },
          "metadata": {},
          "execution_count": 1
        }
      ]
    },
    {
      "cell_type": "markdown",
      "source": [
        "# DataTypes and Variables\n",
        "\n"
      ],
      "metadata": {
        "id": "Dg--oQR1DIZK"
      }
    },
    {
      "cell_type": "code",
      "source": [
        "a= 3\n",
        "b = 5.09\n",
        "name = \"Noor\"\n",
        "carStopped = True\n",
        "\n",
        "print(a)\n",
        "print(b)\n",
        "print(name)\n",
        "print(carStopped)\n"
      ],
      "metadata": {
        "id": "4j9AaTdP3B6C",
        "colab": {
          "base_uri": "https://localhost:8080/"
        },
        "outputId": "170dc159-b6cc-4736-d3ff-ab1534991049"
      },
      "execution_count": 1,
      "outputs": [
        {
          "output_type": "stream",
          "name": "stdout",
          "text": [
            "3\n",
            "5.09\n",
            "Noor\n",
            "True\n"
          ]
        }
      ]
    },
    {
      "cell_type": "markdown",
      "source": [
        "## Python Data Types\n",
        "\n",
        "**Text:** `str` → `\"Hello\"`\n",
        "\n",
        "**Numeric:** `int` → `10`, `float` → `3.14`, `complex` → `2 + 3j`\n",
        "\n",
        "**Sequence:** `list` → `[1, 2]`, `tuple` → `(1, 2)`, `range` → `range(3)`\n",
        "\n",
        "**Mapping:** `dict` → `{\"a\": 1}`\n",
        "\n",
        "**Set:** `set` → `{1, 2}`, `frozenset` → `frozenset({1, 2})`\n",
        "\n",
        "**Boolean:** `bool` → `True`, `False`\n",
        "\n",
        "**Binary:** `bytes` → `b\"hi\"`, `bytearray` → `bytearray(b\"hi\")`, `memoryview` → `memoryview(b\"hi\")`\n",
        "\n",
        "**None:** `NoneType` → `None`\n"
      ],
      "metadata": {
        "id": "JXa3kC-3v6nt"
      }
    },
    {
      "cell_type": "code",
      "source": [
        "a = 7\n",
        "b = 78.90\n",
        "c = 8j\n",
        "\n",
        "name = \"Noor\"\n",
        "grade = 'A'\n",
        "\n",
        "carStopped = False\n",
        "\n",
        "print(type(a))\n",
        "print(type(b))\n",
        "print(type(c))\n",
        "print(type(name))\n",
        "print(type(name))\n",
        "print(type(carStopped))\n"
      ],
      "metadata": {
        "id": "TCKTrlKd8L1S",
        "colab": {
          "base_uri": "https://localhost:8080/"
        },
        "outputId": "0209f971-80d7-4d4f-ee68-ada4df3a4288"
      },
      "execution_count": 2,
      "outputs": [
        {
          "output_type": "stream",
          "name": "stdout",
          "text": [
            "<class 'int'>\n",
            "<class 'float'>\n",
            "<class 'complex'>\n",
            "<class 'str'>\n",
            "<class 'str'>\n",
            "<class 'bool'>\n"
          ]
        }
      ]
    },
    {
      "cell_type": "markdown",
      "source": [
        "## Python Variables\n",
        "\n",
        "- Variables are containers for storing data values.\n",
        "- A variable is created the moment you first assign a value to it.\n",
        "- Variable names are case-sensitive."
      ],
      "metadata": {
        "id": "lDm7kgX0_4nT"
      }
    },
    {
      "cell_type": "code",
      "source": [
        "# Assigning value to a variable\n",
        "\n",
        "a = 9\n",
        "A = 876.98\n",
        "\n",
        "# A will not overwrite a because both a and A are different and can store different values\n",
        "\n",
        "print(\"Value in a: \", a)\n",
        "print(\"Value in A: \", A)\n"
      ],
      "metadata": {
        "id": "JOwdf72h__FL",
        "colab": {
          "base_uri": "https://localhost:8080/"
        },
        "outputId": "ee2f1bea-25bb-4e68-d686-f836b20605d1"
      },
      "execution_count": 5,
      "outputs": [
        {
          "output_type": "stream",
          "name": "stdout",
          "text": [
            "Value in a:  9\n",
            "Value in A:  876.98\n"
          ]
        }
      ]
    },
    {
      "cell_type": "markdown",
      "source": [
        "## Variable Names\n",
        "\n",
        "A variable can have a short name (like x and y) or a more descriptive name (age, carname, total_volume).\n",
        "\n",
        "## Rules for Python variables:\n",
        "\n",
        "* A variable name must start with a letter or the underscore character\n",
        "* A variable name cannot start with a number\n",
        "* A variable name can only contain alpha-numeric characters and underscores (A-z, 0-9, and _ )\n",
        "* Variable names are case-sensitive (name, Name and NAME are three different variables)\n",
        "* A variable name cannot be any of the Python keywords."
      ],
      "metadata": {
        "id": "TbA68LSORMbc"
      }
    },
    {
      "cell_type": "code",
      "source": [
        "# Variables can me made this way\n",
        "\n",
        "myname = \"Noor\"\n",
        "my_name = \"Noor\"\n",
        "_my_name = \"Noor\"\n",
        "myName = \"Noor\"\n",
        "MYNAME = \"Noor\"\n",
        "myname1 = \"Noor\"\n",
        "\n",
        "print(myname)\n",
        "print(my_name)\n",
        "print(_my_name)\n",
        "print(myName)\n",
        "print(MYNAME)\n",
        "print(myname1)\n",
        ""
      ],
      "metadata": {
        "id": "xWHRY2PKRn0M",
        "colab": {
          "base_uri": "https://localhost:8080/"
        },
        "outputId": "14c7fdbe-05f6-4fc1-e72f-24ca8d63a4db"
      },
      "execution_count": 9,
      "outputs": [
        {
          "output_type": "stream",
          "name": "stdout",
          "text": [
            "Noor\n",
            "Noor\n",
            "Noor\n",
            "Noor\n",
            "Noor\n",
            "Noor\n"
          ]
        }
      ]
    },
    {
      "cell_type": "code",
      "source": [
        "# Cannot make a variable starting from a number, so when you make one, it shows error\n",
        "\n",
        "6myname = \"Noor\"\n"
      ],
      "metadata": {
        "colab": {
          "base_uri": "https://localhost:8080/",
          "height": 106
        },
        "id": "zn7hpVOrFiZT",
        "outputId": "79a24df3-e408-462b-8202-4d2478576141"
      },
      "execution_count": 12,
      "outputs": [
        {
          "output_type": "error",
          "ename": "SyntaxError",
          "evalue": "invalid decimal literal (ipython-input-238682010.py, line 3)",
          "traceback": [
            "\u001b[0;36m  File \u001b[0;32m\"/tmp/ipython-input-238682010.py\"\u001b[0;36m, line \u001b[0;32m3\u001b[0m\n\u001b[0;31m    6myname = \"Noor\"\u001b[0m\n\u001b[0m    ^\u001b[0m\n\u001b[0;31mSyntaxError\u001b[0m\u001b[0;31m:\u001b[0m invalid decimal literal\n"
          ]
        }
      ]
    },
    {
      "cell_type": "markdown",
      "source": [
        "## Multi Words Variable Names\n",
        "\n",
        "Variable names with more than one word can be difficult to read.\n",
        "\n",
        "There are several techniques you can use to make them more readable:\n",
        "* Camel Case - First word lowercase, each new word capitalized\n",
        "* Pascal Case - Each word starts with a capital letter\n",
        "* Snake Case - All lowercase, words separated by underscores"
      ],
      "metadata": {
        "id": "SkP3g3-sR9Jw"
      }
    },
    {
      "cell_type": "code",
      "source": [
        "myName → camelCase\n",
        "\n",
        "MyName → PascalCase\n",
        "\n",
        "my_name → snake_case\n"
      ],
      "metadata": {
        "id": "XxIaMYwLFsZ7"
      },
      "execution_count": null,
      "outputs": []
    },
    {
      "cell_type": "code",
      "source": [
        "# We can also assign values to multiple variables in one line, altogether and then print them altogether\n",
        "\n",
        "a, b, c = \"Red\", \"Green\", \"Blue\"\n",
        "\n",
        "print(a, b, c )\n",
        "print(a)\n",
        "print(b)\n",
        "print(c)\n"
      ],
      "metadata": {
        "id": "z_7mbeNCSWH5",
        "colab": {
          "base_uri": "https://localhost:8080/"
        },
        "outputId": "89825c5a-29a7-4513-9eed-edcd16e88066"
      },
      "execution_count": 19,
      "outputs": [
        {
          "output_type": "stream",
          "name": "stdout",
          "text": [
            "Red Green Blue\n",
            "Red\n",
            "Green\n",
            "Blue\n"
          ]
        }
      ]
    },
    {
      "cell_type": "markdown",
      "source": [
        "##Printing variables and Input\n",
        "* The Python print() function is mostly used to output/print the variables.\n"
      ],
      "metadata": {
        "id": "ycJrA0h_DUat"
      }
    },
    {
      "cell_type": "code",
      "source": [
        "# Taking variables\n",
        "\n",
        "a = \"My\"\n",
        "b = \"Name\"\n",
        "c = \"is\"\n",
        "d = \"Noor\"\n",
        "\n",
        "# Printing them together\n",
        "print(a, b, c, d)\n",
        "\n",
        "# We can also use the + operator to print multiple variables:\n",
        "a = \"I\"\n",
        "b = \"am\"\n",
        "c = \"from\"\n",
        "d = \"Rawalpindi\"\n",
        "\n",
        "# Printing them together by using the + operator\n",
        "print(a + b + c + d)\n",
        "\n",
        "#For numbers, the + character works as a mathematical operator:\n",
        "a = 8\n",
        "b = 9\n",
        "c = 2\n",
        "\n",
        "# Printing the output of both after addition\n",
        "print(a + b + c)\n",
        "\n",
        "# When we combine a string and a number with the + operator, Python will give you an error.\n",
        "# To avoid this we use commas instead of + operator\n",
        "'''\n",
        "a = 7\n",
        "b = \"Noor\"\n",
        "\n",
        "# Printing\n",
        "print(a + b)\n",
        "\n",
        "'''\n",
        "\n",
        "# Now doing the same using comma\n",
        "a = 7\n",
        "b = \"Noor\"\n",
        "\n",
        "print(a, b)\n"
      ],
      "metadata": {
        "id": "7qR-Wer7TZ1l",
        "colab": {
          "base_uri": "https://localhost:8080/"
        },
        "outputId": "2fa36a11-d0a7-47c1-e6ec-3e3e6cd5e558"
      },
      "execution_count": 30,
      "outputs": [
        {
          "output_type": "stream",
          "name": "stdout",
          "text": [
            "My Name is Noor\n",
            "IamfromRawalpindi\n",
            "19\n",
            "7 Noor\n"
          ]
        }
      ]
    },
    {
      "cell_type": "code",
      "source": [
        "# Now, taking input from the user using \"input\"\n",
        "\n",
        "myNum = 15\n",
        "\n",
        "# Will tale input from user and convert it into int, as it will otherwise take it as string because we used inverted commas\n",
        "myAge = int(input(\"Please enter your age: \"))\n",
        "\n",
        "# storing the sum of the age and myNum in result\n",
        "result = myNum + myAge\n",
        "\n",
        "# Printing\n",
        "print(\"My result is:\" , result)\n"
      ],
      "metadata": {
        "colab": {
          "base_uri": "https://localhost:8080/"
        },
        "id": "j2QWT2vODX6P",
        "outputId": "dbccade8-2052-4acb-df53-4c53e9143864"
      },
      "execution_count": 34,
      "outputs": [
        {
          "output_type": "stream",
          "name": "stdout",
          "text": [
            "Please enter your age: 34\n",
            "My result is: 49\n"
          ]
        }
      ]
    },
    {
      "cell_type": "markdown",
      "source": [
        "## Type Casting\n",
        "\n",
        "- If you want to specify the data type of a variable, this can be done with type casting.\n",
        "- It changes the data type."
      ],
      "metadata": {
        "id": "8psQI7wLzV1r"
      }
    },
    {
      "cell_type": "code",
      "source": [
        "# Taking to variables\n",
        "\n",
        "a = 456\n",
        "b = 39.6\n",
        "\n",
        "# Printing the type for variable a\n",
        "print(type(a))\n",
        "print(\"Before Type Casting: \", a)\n",
        "\n",
        "# Type casting to change the type of \"a\" from int to float\n",
        "c = float(a)\n",
        "\n",
        "# Printing the type and value of \"a\" after type casting\n",
        "print(type(c))\n",
        "print(\"After Type Casting: \", c)\n"
      ],
      "metadata": {
        "colab": {
          "base_uri": "https://localhost:8080/"
        },
        "id": "6saqxyJczcWj",
        "outputId": "465f2903-0855-41f3-ddc6-7c0562d2d631"
      },
      "execution_count": 38,
      "outputs": [
        {
          "output_type": "stream",
          "name": "stdout",
          "text": [
            "<class 'int'>\n",
            "Before Type Casting:  456\n",
            "<class 'float'>\n",
            "After Type Casting:  456.0\n"
          ]
        }
      ]
    },
    {
      "cell_type": "markdown",
      "source": [
        "# **Operators**\n",
        "\n",
        "**Arithmetic:** `+` (add), `-` (sub), `*` (mul), `/` (div), `%` (mod), `**` (exp), `//` (floor div)\n",
        "\n",
        "**Comparison:** `==` (equal), `!=` (not equal), `>` (greater), `<` (less), `>=`, `<=`\n",
        "\n",
        "**Logical:** `and`, `or`, `not`"
      ],
      "metadata": {
        "id": "aDGmTCfiE1Fr"
      }
    },
    {
      "cell_type": "code",
      "source": [
        "# Taking two numbers\n",
        "num1 = 50\n",
        "num2 = 30\n",
        "\n",
        "# Arthematic Operations\n",
        "\n",
        "print(\"Addtion of two: \", num1 + num2)\n",
        "\n",
        "print(\"Subtraction of two: \", num1 - num2)\n",
        "\n",
        "print(\"Multiplication of two: \", num1 * num2)\n",
        "\n",
        "print(\"Division on two: \", num1 / num2)\n",
        "\n",
        "print(\"Mod of two: \", num2 % num1)\n",
        "\n",
        "print(\"Floor Div of two: \", num1 // num2)\n",
        "\n",
        "print(\"Power: \", num1 ** 3)\n"
      ],
      "metadata": {
        "colab": {
          "base_uri": "https://localhost:8080/"
        },
        "id": "3EXnaMueDqzl",
        "outputId": "ed872693-d8a7-4351-9889-210533a249f7"
      },
      "execution_count": 42,
      "outputs": [
        {
          "output_type": "stream",
          "name": "stdout",
          "text": [
            "Addtion of two:  80\n",
            "Subtraction of two:  20\n",
            "Multiplication of two:  1500\n",
            "Division on two:  1.6666666666666667\n",
            "Mod of two:  30\n",
            "Floor Div of two:  1\n",
            "Power:  125000\n"
          ]
        }
      ]
    },
    {
      "cell_type": "code",
      "source": [
        "# Taking two variables\n",
        "\n",
        "var1 = True\n",
        "var2 = False\n",
        "\n",
        "\n",
        "# Logical Operators\n",
        "# AND\n",
        "print(\"AND: \", var1 and var2)\n",
        "\n",
        "#OR\n",
        "print(\"OR: \", var1 or var2)\n",
        "\n",
        "#NOT\n",
        "print(\"NOT: \", not var2)\n"
      ],
      "metadata": {
        "colab": {
          "base_uri": "https://localhost:8080/"
        },
        "id": "PP91UrtKDtBK",
        "outputId": "04542634-9b59-429b-ad54-f0314e96bf62"
      },
      "execution_count": 43,
      "outputs": [
        {
          "output_type": "stream",
          "name": "stdout",
          "text": [
            "AND:  False\n",
            "OR:  True\n",
            "NOT:  True\n"
          ]
        }
      ]
    },
    {
      "cell_type": "code",
      "source": [
        "# Taking 3 variables\n",
        "number1  = 30\n",
        "number2 = 40\n",
        "number3 = 30\n",
        "\n",
        "# Comparison Operators\n",
        "\n",
        "print(\"num1 and num2 are equal? \", number1 == number2)\n",
        "\n",
        "print(\"num1 and num2 are not equal?: \", number1 != number2)\n",
        "\n",
        "print(\"num1 is less than equal to num 2?\", number1 <= number2)\n",
        "\n",
        "print(\"num1 is greater than equal to num3?\", number1 >= number3)"
      ],
      "metadata": {
        "colab": {
          "base_uri": "https://localhost:8080/"
        },
        "id": "gBGjNS6GDusn",
        "outputId": "61594449-f287-4715-e3ce-fb4037d1f8c7"
      },
      "execution_count": 46,
      "outputs": [
        {
          "output_type": "stream",
          "name": "stdout",
          "text": [
            "num1 and num2 are equal?  False\n",
            "num1 and num2 are not equal?:  True\n",
            "num1 is less than equal to num 2? True\n",
            "num1 is greater than equal to num3? True\n"
          ]
        }
      ]
    },
    {
      "cell_type": "markdown",
      "source": [
        "# **Conditional Statements**\n",
        "\n",
        "**Conditional statements help your program make decisions.**"
      ],
      "metadata": {
        "id": "y-Zyv_BaD1uC"
      }
    },
    {
      "cell_type": "code",
      "source": [
        "# Taking a temperature variable and giving it a value\n",
        "\n",
        "temperature = 42\n",
        "\n",
        "# Condition\n",
        "\n",
        "if temperature > 25:\n",
        "    print(\"It's hot outside! Please stay at home\")\n",
        "else:\n",
        "  print(\"It's cold outside! Go out and have fun\")\n"
      ],
      "metadata": {
        "id": "kYQCw-pq6Pyg",
        "colab": {
          "base_uri": "https://localhost:8080/"
        },
        "outputId": "62c90f3e-fdcb-4a6f-8bea-5b15c7f16b54"
      },
      "execution_count": 2,
      "outputs": [
        {
          "output_type": "stream",
          "name": "stdout",
          "text": [
            "It's hot outside! Please stay at home\n"
          ]
        }
      ]
    },
    {
      "cell_type": "markdown",
      "source": [
        "## Types of Conditional Statements\n",
        "\n",
        "**if statement** – Runs a block of code if a condition is true.\n",
        "\n",
        "**if-else statement** – Runs one block if true, another if false.\n",
        "\n",
        "**if-elif-else chain** – Checks multiple conditions in order.\n"
      ],
      "metadata": {
        "id": "Zyy6NEPGr2Wy"
      }
    },
    {
      "cell_type": "markdown",
      "source": [
        "**Using If - Else**"
      ],
      "metadata": {
        "id": "jEaQrYQkIn37"
      }
    },
    {
      "cell_type": "code",
      "source": [
        "# IF Statement\n",
        "# Taking value for age from user\n",
        "\n",
        "age = int(input(\"Enter your age: \"))\n",
        "\n",
        "\n",
        "# Condition\n",
        "if age >= 18:\n",
        "    print(\"You are eligible for vote!\")\n",
        "else:\n",
        "    print(\"You are not eligible for voting!\")\n"
      ],
      "metadata": {
        "id": "ZMiuh5Ylr8b9",
        "colab": {
          "base_uri": "https://localhost:8080/"
        },
        "outputId": "03ac873e-3b3b-414e-8d36-92f2e5f2b76a"
      },
      "execution_count": 4,
      "outputs": [
        {
          "output_type": "stream",
          "name": "stdout",
          "text": [
            "Enter your age: 34\n",
            "You are eligible for vote!\n"
          ]
        }
      ]
    },
    {
      "cell_type": "code",
      "source": [
        "# Another Example\n",
        "# Taking GPA input from user\n",
        "CGPA = float(input(\"Please Enter Your GPA: \"))\n",
        "\n",
        "# Condition\n",
        "if CGPA >= 3.0:\n",
        "  print(\"Good student. Keep it up!\")\n",
        "else:\n",
        "  print(\"Work Harder!!!\")\n",
        ""
      ],
      "metadata": {
        "id": "miLZH8-c0z10",
        "colab": {
          "base_uri": "https://localhost:8080/"
        },
        "outputId": "08d2f943-be5b-409c-a448-aa44067adcd9"
      },
      "execution_count": 7,
      "outputs": [
        {
          "output_type": "stream",
          "name": "stdout",
          "text": [
            "Please Enter Your GPA: 3.5\n",
            "Good student. Keep it up!\n"
          ]
        }
      ]
    },
    {
      "cell_type": "markdown",
      "source": [
        "**Using if-elif-else (Multiple Conditions)**"
      ],
      "metadata": {
        "id": "DzhD9XHVsLHO"
      }
    },
    {
      "cell_type": "code",
      "source": [
        "# Taking marks input from user\n",
        "marks = int(input(\"Please enter your marks: \"))\n",
        "\n",
        "# Multiple conditions\n",
        "if marks >= 90:\n",
        "    print(\"Grade: A. You did great!\")\n",
        "elif marks >= 80:\n",
        "    print(\"Grade: B. Keep it up!\")\n",
        "elif marks >= 70:\n",
        "    print(\"Grade: C. Work Harder!\")\n",
        "else:\n",
        "    print(\"Grade: Fail. Please repeat your courses!\")\n"
      ],
      "metadata": {
        "id": "Zag6W30QCm-b",
        "colab": {
          "base_uri": "https://localhost:8080/"
        },
        "outputId": "2519883b-9c0b-48f0-b688-f64f2ae4d0d8"
      },
      "execution_count": 10,
      "outputs": [
        {
          "output_type": "stream",
          "name": "stdout",
          "text": [
            "Please enter your marks: 67\n",
            "Grade: Fail. Please repeat your courses!\n"
          ]
        }
      ]
    },
    {
      "cell_type": "code",
      "source": [
        "# Taking marks input from user\n",
        "\n",
        "marks = input(\"Please enter your marks: \")\n",
        "\n",
        "# Taking 3 fixed variables\n",
        "execellentMarks = 100\n",
        "goodMarks = 70\n",
        "averageMarks = 60\n",
        "\n",
        "# Condition\n",
        "# We are changing marks from str to int here instead of doing it while taking input\n",
        "if(int(marks) == execellentMarks):\n",
        "  print(\"Great Student\")\n",
        "\n",
        "elif(int(marks) > goodMarks):\n",
        "  print(\"Good Student\")\n",
        "\n",
        "elif(int(marks) > averageMarks):\n",
        "  print(\"Average Student\")\n",
        "\n",
        "else:\n",
        "  print(\"Fail\")\n"
      ],
      "metadata": {
        "colab": {
          "base_uri": "https://localhost:8080/"
        },
        "id": "aDzfHoorD54z",
        "outputId": "01b808b2-cc7b-41b9-b555-581283e817a0"
      },
      "execution_count": 11,
      "outputs": [
        {
          "output_type": "stream",
          "name": "stdout",
          "text": [
            "Please enter your marks: 88\n",
            "Good Student\n"
          ]
        }
      ]
    },
    {
      "cell_type": "markdown",
      "source": [
        "## Nested if\n",
        "\n",
        "If it's a holiday, check whether it's raining or sunny."
      ],
      "metadata": {
        "id": "jv6VVQSUsuEG"
      }
    },
    {
      "cell_type": "code",
      "source": [
        "# Taking input from user and converting it to lower case\n",
        "\n",
        "holiday = input(\"Is it a holiday today? (yes/no): \").lower()\n",
        "\n",
        "# Condition\n",
        "if holiday == \"yes\":\n",
        "    weather = input(\"What's the weather like right now? (rainy/sunny): \").lower()\n",
        "\n",
        "# Another if condition\n",
        "    if weather == \"rainy\":\n",
        "        print(\"Stay home and watch a movie!\")\n",
        "    elif weather == \"sunny\":\n",
        "        print(\"Go out and enjoy the sun!\")\n",
        "    else:\n",
        "        print(\"Enjoy your day however you like!\")\n",
        "\n",
        " # If not a holiday display this statement\n",
        "else:\n",
        "    print(\"Get ready for your work!\")\n"
      ],
      "metadata": {
        "id": "7ydRKb7nC6fr",
        "colab": {
          "base_uri": "https://localhost:8080/"
        },
        "outputId": "517fffd9-d0e5-41a8-feca-438c146bd3a0"
      },
      "execution_count": 12,
      "outputs": [
        {
          "output_type": "stream",
          "name": "stdout",
          "text": [
            "Is it a holiday today? (yes/no): yes\n",
            "What's the weather like right now? (rainy/sunny): snowing\n",
            "Enjoy your day however you like!\n"
          ]
        }
      ]
    },
    {
      "cell_type": "markdown",
      "source": [
        "# **Loops**\n",
        "A loop lets you repeat a block of code as many times as needed.\n",
        "\n",
        "**for loop** – Repeats a block of code for each item in a sequence (like a list, string, or range).  \n",
        "👉 Example: `for i in range(5): print(i)`\n",
        "\n",
        "**while loop** – Repeats a block of code **as long as** a condition is true.  \n",
        "👉 Example: `while x < 5: print(x); x += 1`"
      ],
      "metadata": {
        "id": "Xoj6WEx_FXLe"
      }
    },
    {
      "cell_type": "code",
      "source": [
        "# While Loop\n",
        "# Setting index 1 for variable i\n",
        "num = 1\n",
        "\n",
        "# Loop\n",
        "while num<=10:\n",
        "  print(num)\n",
        "\n",
        "# i = i+1\n",
        "  num += 1\n"
      ],
      "metadata": {
        "colab": {
          "base_uri": "https://localhost:8080/"
        },
        "id": "KbzEpksqFZ8m",
        "outputId": "b9cdfaa4-c489-484b-8aac-40355e32a073"
      },
      "execution_count": 14,
      "outputs": [
        {
          "output_type": "stream",
          "name": "stdout",
          "text": [
            "1\n",
            "2\n",
            "3\n",
            "4\n",
            "5\n",
            "6\n",
            "7\n",
            "8\n",
            "9\n",
            "10\n"
          ]
        }
      ]
    },
    {
      "cell_type": "code",
      "source": [
        "# Another WHILE Example\n",
        "# Setting the password\n",
        "password = \"78666\"\n",
        "attempt = \"\"\n",
        "\n",
        "# Condition\n",
        "while attempt != password:\n",
        "    attempt = input(\"Please enter your password: \")\n",
        "    if attempt != password:\n",
        "        print(\"Wrong Password. Please try again!\")\n",
        "\n",
        "print(\"Access Granted Successfully!\")\n"
      ],
      "metadata": {
        "colab": {
          "base_uri": "https://localhost:8080/"
        },
        "id": "YNyb1dCdxdVT",
        "outputId": "6e590669-090f-43c8-f7fb-22805a708832"
      },
      "execution_count": 18,
      "outputs": [
        {
          "output_type": "stream",
          "name": "stdout",
          "text": [
            "Please enter your password: 12344\n",
            "Wrong Password! Please try again\n",
            "Please enter your password: 78666\n",
            "Access Granted!\n"
          ]
        }
      ]
    },
    {
      "cell_type": "code",
      "source": [
        "# For loop\n",
        "# Taking a num variable\n",
        "num = 0\n",
        "\n",
        "# Using for loop\n",
        "for i in range(num, 65, 10):\n",
        "  if (i == 20):\n",
        "    continue;\n",
        "  if (i == 50):\n",
        "    break;\n",
        "  print(i)\n"
      ],
      "metadata": {
        "colab": {
          "base_uri": "https://localhost:8080/"
        },
        "collapsed": true,
        "id": "Sgtl-Ln1GCuF",
        "outputId": "46492f7a-a2fb-4eb4-9e43-ea31fc08ae35"
      },
      "execution_count": 20,
      "outputs": [
        {
          "output_type": "stream",
          "name": "stdout",
          "text": [
            "0\n",
            "10\n",
            "30\n",
            "40\n"
          ]
        }
      ]
    }
  ]
}