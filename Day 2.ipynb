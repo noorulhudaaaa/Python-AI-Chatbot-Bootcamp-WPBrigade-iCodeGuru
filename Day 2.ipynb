{
  "nbformat": 4,
  "nbformat_minor": 0,
  "metadata": {
    "colab": {
      "provenance": [],
      "toc_visible": true,
      "include_colab_link": true
    },
    "kernelspec": {
      "name": "python3",
      "display_name": "Python 3"
    },
    "language_info": {
      "name": "python"
    }
  },
  "cells": [
    {
      "cell_type": "markdown",
      "metadata": {
        "id": "view-in-github",
        "colab_type": "text"
      },
      "source": [
        "<a href=\"https://colab.research.google.com/github/noorulhudaaaa/Python-AI-Chatbot-Bootcamp-WPBrigade-iCodeGuru/blob/main/Day%202.ipynb\" target=\"_parent\"><img src=\"https://colab.research.google.com/assets/colab-badge.svg\" alt=\"Open In Colab\"/></a>"
      ]
    },
    {
      "cell_type": "markdown",
      "source": [
        "# Dictionaries\n",
        "\n",
        "A **dictionary** in Python is a built-in data structure that stores data in **key-value pairs**.  \n",
        "- Each **key** acts as a unique identifier for its **value**.  \n",
        "- Keys must be immutable types (e.g., strings, numbers, tuples containing only immutable items).\n",
        "- \"Immutable\" means something that cannot be changed or modified after it is created.\n",
        "- Values can be of any data type.  \n",
        "\n",
        "In programming, an immutable object is one whose value cannot be altered once assigned. If you try to change it, a new object is created instead of modifying the existing one.\n",
        "\n",
        "\n",
        "**Example:**\n",
        "```python\n",
        "student = {\n",
        "    \"name\": \"Noor\",\n",
        "    \"age\": 24,\n",
        "    \"grade\": \"C\"\n",
        "}\n"
      ],
      "metadata": {
        "id": "HQyffvOZt65J"
      }
    },
    {
      "cell_type": "markdown",
      "source": [
        "## Properties of Dictionaries\n",
        "\n",
        "| Property                               | Description |\n",
        "|----------------------------------------|-------------|\n",
        "| **Preserve Insertion Order** (Python ≥ 3.7) | Maintains the order in which items are inserted. |\n",
        "| **Mutable**                            | Can add, update, or remove items after creation. |\n",
        "| **Indexed by Keys**                    | Values are accessed using keys, not numeric indices. |\n",
        "| **Keys Must Be Unique**                | Duplicate keys overwrite existing values. |\n",
        "| **Keys Must Be Immutable**             | Keys can be strings, numbers, or tuples containing only immutable elements. |\n",
        "| **Values Can Be Any Data Type**        | Values can be strings, numbers, lists, dictionaries, etc. |\n"
      ],
      "metadata": {
        "id": "gQNlWtgJt-DY"
      }
    },
    {
      "cell_type": "markdown",
      "source": [
        "## Creating and Accessing a Dictionary"
      ],
      "metadata": {
        "id": "_NDIzPL_uxCH"
      }
    },
    {
      "cell_type": "code",
      "source": [
        "# Creating a dictionary\n",
        "\n",
        "person = {\n",
        "    \"name\": \"Noor\",    # key: \"name\", value: \"Noor\"\n",
        "    \"age\": 24,        # key: \"age\", value: 24\n",
        "    \"grade\": \"C\",      # key: \"grade\", value: \"C\"\n",
        "    \"city\": \"Rawalpindi\"   # key: \"city\", value: \"Rawalpidi\"\n",
        "}\n",
        "\n",
        "# Accessing values using keys\n",
        "# Printing them\n",
        "print(person[\"name\"])\n",
        "print(person[\"age\"])\n",
        "print(person[\"grade\"])\n",
        "print(person[\"city\"])\n"
      ],
      "metadata": {
        "colab": {
          "base_uri": "https://localhost:8080/"
        },
        "id": "hpNPTgoWuz8d",
        "outputId": "7bd0e6b1-d2eb-482b-e1bf-12c1058ea02d"
      },
      "execution_count": 4,
      "outputs": [
        {
          "output_type": "stream",
          "name": "stdout",
          "text": [
            "Noor\n",
            "24\n",
            "C\n",
            "Rawalpindi\n"
          ]
        }
      ]
    },
    {
      "cell_type": "markdown",
      "source": [
        "## Addition/Modification"
      ],
      "metadata": {
        "id": "qnff1Ygzu1Np"
      }
    },
    {
      "cell_type": "code",
      "source": [
        "# Creating a dictionary\n",
        "person = {\n",
        "    \"name\": \"Noor\",\n",
        "    \"age\": 24,\n",
        "    \"grade\": \"C\",\n",
        "    \"city\": \"Rawalpindi\"\n",
        "\n",
        "}\n",
        "\n",
        "# Printing dictionary\n",
        "print(\"Original Dictionary: \", person)\n",
        "print()\n",
        "\n",
        "# Adding a new key-value pair\n",
        "person[\"country\"] = \"Pakistan\"\n",
        "\n",
        "# Modify an existing value\n",
        "person[\"city\"] = \"Islamabad\"\n",
        "\n",
        "print(\"Updated Dictionary: \", person)\n"
      ],
      "metadata": {
        "colab": {
          "base_uri": "https://localhost:8080/"
        },
        "id": "D-qi9Dk4u-8v",
        "outputId": "18bebb5c-edc4-4707-d289-241f18d2209e"
      },
      "execution_count": 8,
      "outputs": [
        {
          "output_type": "stream",
          "name": "stdout",
          "text": [
            "Original Dictionary:  {'name': 'Noor', 'age': 24, 'grade': 'C', 'city': 'Rawalpindi'}\n",
            "\n",
            "Updated Dictionary:  {'name': 'Noor', 'age': 24, 'grade': 'C', 'city': 'Islamabad', 'country': 'Pakistan'}\n"
          ]
        }
      ]
    },
    {
      "cell_type": "markdown",
      "source": [
        "## Removing"
      ],
      "metadata": {
        "id": "FcGUD4cBvBwU"
      }
    },
    {
      "cell_type": "code",
      "source": [
        "# Creating a dictionary\n",
        "person = {\n",
        "    \"name\": \"Noor\",\n",
        "    \"age\": 24,\n",
        "    \"grade\": \"C\",\n",
        "    \"city\": \"Rawalpindi\"\n",
        "\n",
        "}\n",
        "\n",
        "print(\"Original Dictionary: \", person)\n",
        "print()\n",
        "\n",
        "# The del keyword deletes the desired key value pair without returning the value.\n",
        "# If the key does not exist, it raises a KeyError.\n",
        "# Deleting age key\n",
        "del person[\"age\"]\n",
        "\n",
        "print(\"Updated Dictionary after deletion: \", person)\n",
        "print()\n",
        "\n",
        "# Using pop() method\n",
        "# Removes a key-value pair but also returns the value.\n",
        "# It can take a default value to return if the key doesn’t exist (avoids KeyError).\n",
        "\n",
        "removed_city = person.pop(\"city\", \"Not Found\")\n",
        "print(\"Removed city:\", removed_city)\n",
        "\n",
        "# student.pop(\"city\", \"Not Found\")\n",
        "# Looks for \"city\" in the dictionary.\n",
        "# If found → removes it and returns its value.\n",
        "# If not found → returns \"Not Found\" (the default value provided).\n",
        "\n",
        "# Now if we want to remove city again when it already does not exist\n",
        "removed_city = person.pop(\"city\", \"Not Found\")\n",
        "print(\"Removed city:\", removed_city)\n",
        "print()\n",
        "\n",
        "print(\"Final Dictionary: \", person)\n"
      ],
      "metadata": {
        "colab": {
          "base_uri": "https://localhost:8080/"
        },
        "id": "hft7W-oRvLPD",
        "outputId": "5e511a2b-115e-4cf9-d94e-dfd3e27896ff"
      },
      "execution_count": 17,
      "outputs": [
        {
          "output_type": "stream",
          "name": "stdout",
          "text": [
            "Original Dictionary:  {'name': 'Noor', 'age': 24, 'grade': 'C', 'city': 'Rawalpindi'}\n",
            "\n",
            "Updated Dictionary after deletion:  {'name': 'Noor', 'grade': 'C', 'city': 'Rawalpindi'}\n",
            "\n",
            "Removed city: Rawalpindi\n",
            "Removed city: Not Found\n",
            "\n",
            "Final Dictionary:  {'name': 'Noor', 'grade': 'C'}\n"
          ]
        }
      ]
    },
    {
      "cell_type": "markdown",
      "source": [
        "## Dictionary of Lists"
      ],
      "metadata": {
        "id": "VdJMtDguvMP_"
      }
    },
    {
      "cell_type": "code",
      "source": [
        "# A dictionary where each value is a list\n",
        "grades = {\n",
        "    \"Noor\": [85, 90, 88],\n",
        "    \"Amna\": [78, 82, 91],\n",
        "    \"Ayesha\": [92, 88, 95]\n",
        "}\n",
        "\n",
        "print(grades)\n"
      ],
      "metadata": {
        "id": "gtrMjzZvvW7W",
        "colab": {
          "base_uri": "https://localhost:8080/"
        },
        "outputId": "4112ed38-c568-439a-fe02-284bc553d382"
      },
      "execution_count": 20,
      "outputs": [
        {
          "output_type": "stream",
          "name": "stdout",
          "text": [
            "{'Noor': [85, 90, 88], 'Amna': [78, 82, 91], 'Ayesha': [92, 88, 95]}\n"
          ]
        }
      ]
    },
    {
      "cell_type": "code",
      "source": [
        "# Mutable key example\n",
        "student = {}\n",
        "\n",
        "# Trying to use a list as a key\n",
        "student[[\"first\", \"last\"]] = \"Noor\", \"Ulhuda\"\n",
        "\n",
        "# Keys must be immutable: strings, numbers, or tuples that contain only immutable elements.\n",
        "\n",
        "''' Why It Happens\n",
        "\n",
        "Python dictionaries and sets use hashing to store and find elements quickly.\n",
        "\n",
        "Only immutable (unchangeable) objects can be hashed.\n",
        "\n",
        "Lists can change (items can be added, removed, or modified), so Python cannot use them as keys.\n",
        "'''\n"
      ],
      "metadata": {
        "colab": {
          "base_uri": "https://localhost:8080/",
          "height": 211
        },
        "id": "NovqP__m914L",
        "outputId": "e90c493c-6bc2-40f8-8eaf-8236bcc0abe1"
      },
      "execution_count": 25,
      "outputs": [
        {
          "output_type": "error",
          "ename": "TypeError",
          "evalue": "unhashable type: 'list'",
          "traceback": [
            "\u001b[0;31m---------------------------------------------------------------------------\u001b[0m",
            "\u001b[0;31mTypeError\u001b[0m                                 Traceback (most recent call last)",
            "\u001b[0;32m/tmp/ipython-input-283227843.py\u001b[0m in \u001b[0;36m<cell line: 0>\u001b[0;34m()\u001b[0m\n\u001b[1;32m      3\u001b[0m \u001b[0;34m\u001b[0m\u001b[0m\n\u001b[1;32m      4\u001b[0m \u001b[0;31m# Trying to use a list as a key\u001b[0m\u001b[0;34m\u001b[0m\u001b[0;34m\u001b[0m\u001b[0m\n\u001b[0;32m----> 5\u001b[0;31m \u001b[0mstudent\u001b[0m\u001b[0;34m[\u001b[0m\u001b[0;34m[\u001b[0m\u001b[0;34m\"first\"\u001b[0m\u001b[0;34m,\u001b[0m \u001b[0;34m\"last\"\u001b[0m\u001b[0;34m]\u001b[0m\u001b[0;34m]\u001b[0m \u001b[0;34m=\u001b[0m \u001b[0;34m\"Noor\"\u001b[0m\u001b[0;34m,\u001b[0m \u001b[0;34m\"Ulhuda\"\u001b[0m\u001b[0;34m\u001b[0m\u001b[0;34m\u001b[0m\u001b[0m\n\u001b[0m\u001b[1;32m      6\u001b[0m \u001b[0;34m\u001b[0m\u001b[0m\n\u001b[1;32m      7\u001b[0m \u001b[0;31m# Rule of Thumb:\u001b[0m\u001b[0;34m\u001b[0m\u001b[0;34m\u001b[0m\u001b[0m\n",
            "\u001b[0;31mTypeError\u001b[0m: unhashable type: 'list'"
          ]
        }
      ]
    },
    {
      "cell_type": "markdown",
      "source": [
        "# For Loop in Python\n",
        "A **`for` loop** in Python is used to **iterate** over a sequence (such as a list, tuple, dictionary, string, or range of numbers) and execute a block of code **once for each item** in the sequence.\n",
        "\n",
        "Unlike some other programming languages where `for` loops use a counter by default, Python’s `for` loop works directly with **iterable objects**.\n",
        "\n",
        "\n",
        "\n",
        "### **Syntax**\n",
        "```python\n",
        "for variable in sequence:\n",
        "    # Code block to execute\n"
      ],
      "metadata": {
        "id": "2w9EQSBPvt6U"
      }
    },
    {
      "cell_type": "markdown",
      "source": [
        "## Loop Through a List"
      ],
      "metadata": {
        "id": "4TV9tUNwwhQK"
      }
    },
    {
      "cell_type": "code",
      "source": [
        "# Making a list\n",
        "fruits = [\"apple\", \"banana\", \"cherry\", \"watermelon\", \"mango\"]\n",
        "\n",
        "# For loop to print each item in the list\n",
        "# Can use any variable instead of 'i'\n",
        "for i in fruits:\n",
        "    print(i)\n"
      ],
      "metadata": {
        "colab": {
          "base_uri": "https://localhost:8080/"
        },
        "id": "Fs-XA09qwh6N",
        "outputId": "f86bacd4-53d5-4838-a15a-c4463c56ee10"
      },
      "execution_count": 29,
      "outputs": [
        {
          "output_type": "stream",
          "name": "stdout",
          "text": [
            "apple\n",
            "banana\n",
            "cherry\n",
            "watermelon\n",
            "mango\n"
          ]
        }
      ]
    },
    {
      "cell_type": "code",
      "source": [
        "# Making a list\n",
        "fruits = [\"apple\", \"banana\", \"cherry\", \"watermelon\", \"mango\"]\n",
        "\n",
        "# using vegetable variable here\n",
        "for vegetable in fruits:\n",
        "    print(vegetable)\n",
        ""
      ],
      "metadata": {
        "colab": {
          "base_uri": "https://localhost:8080/"
        },
        "id": "W5twKTo2-V60",
        "outputId": "91e9b907-2513-4735-c8d3-7e5689b8dd0f"
      },
      "execution_count": 30,
      "outputs": [
        {
          "output_type": "stream",
          "name": "stdout",
          "text": [
            "apple\n",
            "banana\n",
            "cherry\n",
            "watermelon\n",
            "mango\n"
          ]
        }
      ]
    },
    {
      "cell_type": "markdown",
      "source": [
        "## Using range()"
      ],
      "metadata": {
        "id": "NHo-tH11wkfu"
      }
    },
    {
      "cell_type": "code",
      "source": [
        "# Using range to iterate and print btw numbers\n",
        "# 1-10 means, starting from 1 and ending at 9, the last number isnt printed\n",
        "\n",
        "for i in range(1,10):\n",
        "    print(i)\n",
        "print()\n",
        "\n",
        "# setting index to 5, so it starts from 5\n",
        "a = 5\n",
        "for i in range(a, 10):\n",
        "    print(i)\n"
      ],
      "metadata": {
        "colab": {
          "base_uri": "https://localhost:8080/"
        },
        "id": "U7U8tumQwnO-",
        "outputId": "7a607657-821f-44ac-d595-6bdf831dd9c2"
      },
      "execution_count": 36,
      "outputs": [
        {
          "output_type": "stream",
          "name": "stdout",
          "text": [
            "1\n",
            "2\n",
            "3\n",
            "4\n",
            "5\n",
            "6\n",
            "7\n",
            "8\n",
            "9\n",
            "\n",
            "5\n",
            "6\n",
            "7\n",
            "8\n",
            "9\n"
          ]
        }
      ]
    },
    {
      "cell_type": "markdown",
      "source": [
        "## Loop Through a String"
      ],
      "metadata": {
        "id": "qhCt7KyJwp-C"
      }
    },
    {
      "cell_type": "code",
      "source": [
        "# Taking a string and printing each character in it\n",
        "for a in \"Python\":\n",
        "    print(a)\n",
        "print()\n",
        "\n",
        "# defining the string first\n",
        "name = \"Noor ul Huda\"\n",
        "for i in name:\n",
        "  print(i)\n"
      ],
      "metadata": {
        "colab": {
          "base_uri": "https://localhost:8080/"
        },
        "id": "ZjC3p78lwtLC",
        "outputId": "7ed2bc1f-a7ae-464c-b8c1-f6ebfc170921"
      },
      "execution_count": 39,
      "outputs": [
        {
          "output_type": "stream",
          "name": "stdout",
          "text": [
            "P\n",
            "y\n",
            "t\n",
            "h\n",
            "o\n",
            "n\n",
            "\n",
            "N\n",
            "o\n",
            "o\n",
            "r\n",
            " \n",
            "u\n",
            "l\n",
            " \n",
            "H\n",
            "u\n",
            "d\n",
            "a\n"
          ]
        }
      ]
    },
    {
      "cell_type": "code",
      "source": [
        "for m in \"Python\":\n",
        "    print(m)"
      ],
      "metadata": {
        "colab": {
          "base_uri": "https://localhost:8080/"
        },
        "id": "ImgHj76P-kV1",
        "outputId": "08543cb1-fb55-4b5d-a638-3e629d61d5ad"
      },
      "execution_count": null,
      "outputs": [
        {
          "output_type": "stream",
          "name": "stdout",
          "text": [
            "P\n",
            "y\n",
            "t\n",
            "h\n",
            "o\n",
            "n\n"
          ]
        }
      ]
    },
    {
      "cell_type": "markdown",
      "source": [
        "## Loop with Condition (Even Numbers)"
      ],
      "metadata": {
        "id": "UP1lQEPfwys4"
      }
    },
    {
      "cell_type": "code",
      "source": [
        "# for loop for even\n",
        "\n",
        "print(\"Even Numbers between 1 and 15:\")\n",
        "\n",
        "for i in range(1, 15):\n",
        "  if i % 2 == 0:                  # condition\n",
        "        print(i)\n"
      ],
      "metadata": {
        "colab": {
          "base_uri": "https://localhost:8080/"
        },
        "id": "P-85BRh-wvaO",
        "outputId": "d3fd6d58-8ae3-4eee-cf57-ca22992042e9"
      },
      "execution_count": 45,
      "outputs": [
        {
          "output_type": "stream",
          "name": "stdout",
          "text": [
            "Even Numbers between 1 and 15:\n",
            "2\n",
            "4\n",
            "6\n",
            "8\n",
            "10\n",
            "12\n",
            "14\n"
          ]
        }
      ]
    },
    {
      "cell_type": "markdown",
      "source": [
        "## Loop Through a Dictionary"
      ],
      "metadata": {
        "id": "ugsyypbkw29G"
      }
    },
    {
      "cell_type": "code",
      "source": [
        "# Making list\n",
        "person = {\"name\": \"Noor\", \"age\": 24, \"grade\": \"C\", \"city\": \"Rawalpindi\"}\n",
        "\n",
        "# items() in Python returns all the key-value pairs in the dictionary as tuple pairs.\n",
        "# key gives keys and value give their values\n",
        "\n",
        "for key, value in person.items():\n",
        "    print(f\"My {key} is {value}\")\n"
      ],
      "metadata": {
        "colab": {
          "base_uri": "https://localhost:8080/"
        },
        "id": "TExZnsxew5I3",
        "outputId": "2e8fbbad-b730-4049-94f2-a072278883a0"
      },
      "execution_count": 52,
      "outputs": [
        {
          "output_type": "stream",
          "name": "stdout",
          "text": [
            "My name is Noor\n",
            "My age is 24\n",
            "My grade is C\n",
            "My city is Rawalpindi\n"
          ]
        }
      ]
    },
    {
      "cell_type": "markdown",
      "source": [
        "## Nested for Loops"
      ],
      "metadata": {
        "id": "gLVJoUEXw-hM"
      }
    },
    {
      "cell_type": "code",
      "source": [
        "# Loops inside loops\n",
        "# Taking range till 4 means from 1-3\n",
        "\n",
        "for i in range(1, 4):\n",
        "    for j in range(1, 3):\n",
        "        print(f\"i={i}, j={j}\")\n"
      ],
      "metadata": {
        "colab": {
          "base_uri": "https://localhost:8080/"
        },
        "id": "XBs1e76_xBeu",
        "outputId": "bca8c658-79d9-474d-b336-fa2998812d71"
      },
      "execution_count": 56,
      "outputs": [
        {
          "output_type": "stream",
          "name": "stdout",
          "text": [
            "i=1, j=1\n",
            "i=1, j=2\n",
            "i=2, j=1\n",
            "i=2, j=2\n",
            "i=3, j=1\n",
            "i=3, j=2\n"
          ]
        }
      ]
    },
    {
      "cell_type": "markdown",
      "source": [
        "## For Loop `break`, `continue` and `pass`"
      ],
      "metadata": {
        "id": "AUdRreCB2KjJ"
      }
    },
    {
      "cell_type": "markdown",
      "source": [
        "range(6) → generates numbers from 0 to 5. the starting is always 0 when not defined.\n",
        "\n",
        "if i == 3: pass → prints 3 and moves to the next iteration.\n",
        "\n",
        "if i == 2: continue → skips printing 2 and moves to the next iteration.\n",
        "\n",
        "if i == 5: break → stops the loop entirely when i reaches 5.\n",
        "\n",
        "print(i) → prints the value if neither condition is triggered."
      ],
      "metadata": {
        "id": "gBGAeLkaABq_"
      }
    },
    {
      "cell_type": "code",
      "source": [
        "# Taking range 6, means 1-5 numbers\n",
        "for i in range(6):\n",
        "    if i == 1:\n",
        "        pass  # move forward when i is 1\n",
        "    if i == 3:\n",
        "        continue  # Skip when i is 2, wont print 3\n",
        "    if i == 5:\n",
        "        break     # Stop the loop when i is 5\n",
        "    print(i)\n"
      ],
      "metadata": {
        "colab": {
          "base_uri": "https://localhost:8080/"
        },
        "id": "tY0HG31M2LYA",
        "outputId": "300b5738-375b-47ad-ea42-53cf3bc03deb"
      },
      "execution_count": 58,
      "outputs": [
        {
          "output_type": "stream",
          "name": "stdout",
          "text": [
            "0\n",
            "1\n",
            "2\n",
            "4\n"
          ]
        }
      ]
    },
    {
      "cell_type": "markdown",
      "source": [
        "## Nested For Loops — Multiplication Table"
      ],
      "metadata": {
        "id": "Uth6bRiW2dP8"
      }
    },
    {
      "cell_type": "code",
      "source": [
        "# Generate a 7x7 multiplication table\n",
        "\n",
        "for i in range(1, 8):           # Outer loop for rows\n",
        "    for j in range(1, 8):       # Inner loop for columns\n",
        "        print(i * j, end=\"\\t\")  # \\t adds tab space for alignment\n",
        "    print()  # Move to the next line after each row\n",
        ""
      ],
      "metadata": {
        "colab": {
          "base_uri": "https://localhost:8080/"
        },
        "id": "btRT265c2c7E",
        "outputId": "aafe02cb-5ba7-4406-9c1a-8bdb5cf7464e"
      },
      "execution_count": 63,
      "outputs": [
        {
          "output_type": "stream",
          "name": "stdout",
          "text": [
            "1\t2\t3\t4\t5\t6\t7\t\n",
            "2\t4\t6\t8\t10\t12\t14\t\n",
            "3\t6\t9\t12\t15\t18\t21\t\n",
            "4\t8\t12\t16\t20\t24\t28\t\n",
            "5\t10\t15\t20\t25\t30\t35\t\n",
            "6\t12\t18\t24\t30\t36\t42\t\n",
            "7\t14\t21\t28\t35\t42\t49\t\n"
          ]
        }
      ]
    },
    {
      "cell_type": "markdown",
      "source": [
        "# **`range()` Function**\n",
        "\n",
        "The `range()` function generates a sequence of numbers, often used in `for` loops.\n",
        "\n",
        "**Syntax:**\n",
        "```python\n",
        "range(start, stop, step)\n",
        "```\n",
        "Parameters:\n",
        "\n",
        "start (optional) – The starting value of the sequence (default: 0).\n",
        "\n",
        "stop (required) – The number one past the last value in the sequence.\n",
        "\n",
        "step (optional) – The increment between each number (default: 1). Can be negative."
      ],
      "metadata": {
        "id": "z0O5reuhcCkj"
      }
    },
    {
      "cell_type": "markdown",
      "source": [
        "## Counting Up\n",
        "\n"
      ],
      "metadata": {
        "id": "6igr-Qm9cK7D"
      }
    },
    {
      "cell_type": "code",
      "execution_count": 64,
      "metadata": {
        "colab": {
          "base_uri": "https://localhost:8080/"
        },
        "id": "rx-cODJ9bGUT",
        "outputId": "fdc60857-e308-4b32-c50e-89980feccda1"
      },
      "outputs": [
        {
          "output_type": "stream",
          "name": "stdout",
          "text": [
            "1\n",
            "2\n",
            "3\n",
            "4\n",
            "5\n",
            "6\n",
            "7\n"
          ]
        }
      ],
      "source": [
        "# Print numbers from 1 to 7\n",
        "for i in range(1, 8):\n",
        "    print(i)\n"
      ]
    },
    {
      "cell_type": "markdown",
      "source": [
        "## Counting Down"
      ],
      "metadata": {
        "id": "oz7EcB2HcSss"
      }
    },
    {
      "cell_type": "code",
      "source": [
        "# Print numbers from 5 down to 1, -1 reverses the number\n",
        "for i in range(5, 0, -1):\n",
        "    print(i)\n"
      ],
      "metadata": {
        "colab": {
          "base_uri": "https://localhost:8080/"
        },
        "id": "9sNHMSZbbYr7",
        "outputId": "cee9d69c-eb19-41e7-e224-b46cb848214d"
      },
      "execution_count": 68,
      "outputs": [
        {
          "output_type": "stream",
          "name": "stdout",
          "text": [
            "5\n",
            "4\n",
            "3\n",
            "2\n",
            "1\n"
          ]
        }
      ]
    },
    {
      "cell_type": "markdown",
      "source": [
        "## Multiplication Table"
      ],
      "metadata": {
        "id": "wRrbtxsicWrq"
      }
    },
    {
      "cell_type": "code",
      "source": [
        "# Print the 8 times table\n",
        "for i in range(1, 11):\n",
        "    print(f\"8 x {i} = {8*i}\")\n"
      ],
      "metadata": {
        "colab": {
          "base_uri": "https://localhost:8080/"
        },
        "id": "ENxc_x27bjpK",
        "outputId": "49f756f7-4ca4-4e01-ec34-8e9a067a3b7d"
      },
      "execution_count": 70,
      "outputs": [
        {
          "output_type": "stream",
          "name": "stdout",
          "text": [
            "8 x 1 = 8\n",
            "8 x 2 = 16\n",
            "8 x 3 = 24\n",
            "8 x 4 = 32\n",
            "8 x 5 = 40\n",
            "8 x 6 = 48\n",
            "8 x 7 = 56\n",
            "8 x 8 = 64\n",
            "8 x 9 = 72\n",
            "8 x 10 = 80\n"
          ]
        }
      ]
    },
    {
      "cell_type": "markdown",
      "source": [
        "# Python Functions\n",
        "A **function** in Python is a block of reusable code that performs a specific task.  \n",
        "It helps organize code, avoid repetition, and make programs more readable.\n",
        "\n",
        "---\n",
        "\n",
        "## **Function Syntax**\n",
        "```python\n",
        "def function_name(parameters):\n",
        "    \"\"\"Optional docstring explaining the function.\"\"\"\n",
        "    # Code block\n",
        "    return value\n",
        "```\n",
        "def → Keyword to define a function\n",
        "\n",
        "function_name → Name you choose for your function\n",
        "\n",
        "parameters → Inputs to the function (optional)\n",
        "\n",
        "return → Value the function sends back (optional)"
      ],
      "metadata": {
        "id": "ThLZ8xJXddWB"
      }
    },
    {
      "cell_type": "markdown",
      "source": [
        "## Function Without Parameters"
      ],
      "metadata": {
        "id": "_t-Y1LrJdiwU"
      }
    },
    {
      "cell_type": "code",
      "source": [
        "# creating a function greet\n",
        "def greet():\n",
        "    print(\"Hello! Noor here!\")\n",
        "\n",
        "# Calling the function\n",
        "greet()\n"
      ],
      "metadata": {
        "colab": {
          "base_uri": "https://localhost:8080/"
        },
        "id": "kDKp4Ce5c64I",
        "outputId": "db992842-3b93-4466-c72b-292de748ca92"
      },
      "execution_count": 73,
      "outputs": [
        {
          "output_type": "stream",
          "name": "stdout",
          "text": [
            "Hello! Noor here!\n"
          ]
        }
      ]
    },
    {
      "cell_type": "markdown",
      "source": [
        "## Function With Parameters"
      ],
      "metadata": {
        "id": "cdr7UEiWSgvU"
      }
    },
    {
      "cell_type": "code",
      "source": [
        "# Creating a function\n",
        "def greet(name):\n",
        "    print(f\"Hello, {name}!\")\n",
        "\n",
        "greet(\"Noor\")\n"
      ],
      "metadata": {
        "colab": {
          "base_uri": "https://localhost:8080/"
        },
        "id": "iAcMIwUpdldj",
        "outputId": "11e1c49c-1731-464d-b6ba-e21cc0644313"
      },
      "execution_count": 74,
      "outputs": [
        {
          "output_type": "stream",
          "name": "stdout",
          "text": [
            "Hello, Noor!\n"
          ]
        }
      ]
    },
    {
      "cell_type": "code",
      "source": [
        "# Creating function for addition of 2 numbers\n",
        "def addition(a, b):\n",
        "    return a + b\n",
        "\n",
        "result = addition(7, 9)\n",
        "print(result)\n"
      ],
      "metadata": {
        "colab": {
          "base_uri": "https://localhost:8080/"
        },
        "id": "oM7UwSKrdw_z",
        "outputId": "06121416-e962-44d9-c338-12f29394fd05"
      },
      "execution_count": 76,
      "outputs": [
        {
          "output_type": "stream",
          "name": "stdout",
          "text": [
            "16\n"
          ]
        }
      ]
    },
    {
      "cell_type": "code",
      "source": [
        "# Assigning value to variable\n",
        "def greet(name = \"Guest\", age = 24):\n",
        "    print(f\"Hello, {name}! Are you {age} years old?\")\n",
        "\n",
        "greet()\n",
        "\n",
        "# This will update the value for name and age\n",
        "greet(\"Noor\", 25)\n",
        "\n"
      ],
      "metadata": {
        "colab": {
          "base_uri": "https://localhost:8080/"
        },
        "id": "2z_lZNPQd1Ty",
        "outputId": "4f3fa01e-f659-4cc8-905d-1efa476767c1"
      },
      "execution_count": 83,
      "outputs": [
        {
          "output_type": "stream",
          "name": "stdout",
          "text": [
            "Hello, Guest! Are you 24 years old?\n",
            "Hello, Noor! Are you 25 years old?\n"
          ]
        }
      ]
    },
    {
      "cell_type": "code",
      "source": [
        "# Creating a function for calculation of two numbers\n",
        "def calculate(a, b):\n",
        "   return a+b, a-b\n",
        "\n",
        "s, d = calculate(18, 7)\n",
        "print(\"Sum:\", s)\n",
        "print(\"Difference:\", d)\n",
        "print()\n",
        "\n",
        "# OR\n",
        "def calculate(a, b):\n",
        "    sumNum = a + b\n",
        "    diffNum = a - b\n",
        "    return sumNum, diffNum\n",
        "\n",
        "s, d = calculate(15, 8)\n",
        "print(\"Sum:\", s)\n",
        "print(\"Difference:\", d)\n"
      ],
      "metadata": {
        "colab": {
          "base_uri": "https://localhost:8080/"
        },
        "id": "BJTsBr9jeFBz",
        "outputId": "2dcb891c-ae5b-400f-cce9-bfdcc1d55b33"
      },
      "execution_count": 88,
      "outputs": [
        {
          "output_type": "stream",
          "name": "stdout",
          "text": [
            "Sum: 25\n",
            "Difference: 11\n",
            "\n",
            "Sum: 23\n",
            "Difference: 7\n"
          ]
        }
      ]
    },
    {
      "cell_type": "markdown",
      "source": [
        "## Python Built-in Functions\n",
        "\n",
        "Python comes with **built-in functions** that you can use without importing any module.  \n",
        "These are always available in Python.\n",
        "\n",
        "---\n",
        "\n",
        "## Commonly Used Built-in Functions\n",
        "\n",
        "| Function | Description | Example |\n",
        "|----------|-------------|---------|\n",
        "| `print()` | Displays output to the screen | `print(\"Hello\")` → `Hello` |\n",
        "| `len()` | Returns the length of an object | `len(\"Python\")` → `6` |\n",
        "| `type()` | Returns the type of an object | `type(5)` → `<class 'int'>` |\n",
        "| `int()` | Converts to an integer | `int(3.9)` → `3` |\n",
        "| `float()` | Converts to a float | `float(3)` → `3.0` |\n",
        "| `str()` | Converts to a string | `str(123)` → `\"123\"` |\n",
        "| `abs()` | Returns absolute value | `abs(-7)` → `7` |\n",
        "| `sum()` | Returns sum of an iterable | `sum([1,2,3])` → `6` |\n",
        "| `max()` | Returns the largest value | `max(2,5,1)` → `5` |\n",
        "| `min()` | Returns the smallest value | `min(2,5,1)` → `1` |\n",
        "| `round()` | Rounds a number | `round(3.1416, 2)` → `3.14` |\n",
        "| `sorted()` | Returns a sorted list | `sorted([3,1,2])` → `[1,2,3]` |\n",
        "| `range()` | Generates a sequence of numbers | `list(range(3))` → `[0,1,2]` |\n",
        "| `input()` | Reads user input as a string | `name = input(\"Enter name: \")` |\n",
        "| `help()` | Displays documentation | `help(len)` |\n",
        "| `dir()` | Lists attributes of an object | `dir(str)` |\n",
        "\n",
        "---\n",
        "\n",
        "##  Example Code\n",
        "```python\n",
        "numbers = [4, 7, 1, 9, 3]\n",
        "\n",
        "print(\"Length:\", len(numbers))\n",
        "print(\"Max:\", max(numbers))\n",
        "print(\"Min:\", min(numbers))\n",
        "print(\"Sum:\", sum(numbers))\n",
        "print(\"Sorted:\", sorted(numbers))\n"
      ],
      "metadata": {
        "id": "g3gibllUe2dt"
      }
    },
    {
      "cell_type": "markdown",
      "source": [
        "# Python Lambda Functions\n",
        "A **lambda function** is a small, anonymous (unnamed) function in Python.  \n",
        "It can have any number of arguments but only **one expression**.  \n",
        "\n",
        "---\n",
        "\n",
        "\n",
        "```python\n",
        "lambda arguments: expression\n",
        "```"
      ],
      "metadata": {
        "id": "4Cp7ZkDzeXKF"
      }
    },
    {
      "cell_type": "markdown",
      "source": [
        "## Syntax\n",
        "- Lambda functions can be written in **one line**.\n",
        "- No need to define a separate function with `def` when it’s only used once.\n",
        "\n",
        "```python\n",
        "square = lambda x: x**2\n",
        "print(square(5))  # 25\n",
        "```"
      ],
      "metadata": {
        "id": "L2dxlj380PUJ"
      }
    },
    {
      "cell_type": "markdown",
      "source": [
        "## Examples"
      ],
      "metadata": {
        "id": "rNSqERqzYL-j"
      }
    },
    {
      "cell_type": "code",
      "source": [
        "# square of 7\n",
        "square = lambda x: x**2\n",
        "print(square(7))\n"
      ],
      "metadata": {
        "colab": {
          "base_uri": "https://localhost:8080/"
        },
        "id": "AeUEeEYceJFm",
        "outputId": "35a10e61-2705-4894-e843-686f32f959ad"
      },
      "execution_count": 89,
      "outputs": [
        {
          "output_type": "stream",
          "name": "stdout",
          "text": [
            "49\n"
          ]
        }
      ]
    },
    {
      "cell_type": "code",
      "source": [
        "# Addition of 2 numbers\n",
        "add = lambda a, b: a + b\n",
        "print(add(5, 8))\n"
      ],
      "metadata": {
        "colab": {
          "base_uri": "https://localhost:8080/"
        },
        "id": "UQl1y0p5eaeQ",
        "outputId": "32d4de52-f596-4bd3-ce69-84a85df48054"
      },
      "execution_count": 90,
      "outputs": [
        {
          "output_type": "stream",
          "name": "stdout",
          "text": [
            "13\n"
          ]
        }
      ]
    },
    {
      "cell_type": "code",
      "source": [
        "# Addition of 3 numbers minus 4th number\n",
        "addition = lambda a, b, c, d : a + b + c - d\n",
        "print(addition(15, 7, 12, 8))\n"
      ],
      "metadata": {
        "colab": {
          "base_uri": "https://localhost:8080/"
        },
        "id": "LnJMxGeOYetw",
        "outputId": "85080ef7-5c03-47b7-c4e9-aa378b44b69b"
      },
      "execution_count": 93,
      "outputs": [
        {
          "output_type": "stream",
          "name": "stdout",
          "text": [
            "26\n"
          ]
        }
      ]
    },
    {
      "cell_type": "code",
      "source": [
        "# Square of all numbers in list\n",
        "# Creating a list of 4 numbers\n",
        "\n",
        "num = [4, 5, 6, 7]\n",
        "\n",
        "square = map(lambda x: x**2, num)\n",
        "print(list(square))\n"
      ],
      "metadata": {
        "colab": {
          "base_uri": "https://localhost:8080/"
        },
        "id": "_sHsnEJAec62",
        "outputId": "76855218-df70-4b34-b536-8ee1ed4b6638"
      },
      "execution_count": 102,
      "outputs": [
        {
          "output_type": "stream",
          "name": "stdout",
          "text": [
            "[16, 25, 36, 49]\n"
          ]
        }
      ]
    },
    {
      "cell_type": "code",
      "source": [
        "# Creating a list of 5 numbers\n",
        "nums = [10, 15, 20, 25, 30]\n",
        "\n",
        "even_nums = filter(lambda x: x % 2 == 0, nums)\n",
        "print(list(even_nums))\n"
      ],
      "metadata": {
        "colab": {
          "base_uri": "https://localhost:8080/"
        },
        "id": "eenpVeYbefUZ",
        "outputId": "20dcbc27-9c47-4864-f7ff-a4a6c5c68239"
      },
      "execution_count": 107,
      "outputs": [
        {
          "output_type": "stream",
          "name": "stdout",
          "text": [
            "[10, 20, 30]\n"
          ]
        }
      ]
    },
    {
      "cell_type": "markdown",
      "source": [
        "# List Comprehensions\n",
        "\n",
        "- List comprehensions provide a **concise and readable** way to create lists in Python.  \n",
        "- They allow you to **generate a new list** by applying an expression to each item in an existing iterable (like a list, tuple, string, or range), optionally including a condition.\n",
        "\n",
        "\n",
        "\n",
        "### **Syntax**\n",
        "```python\n",
        "[expression for item in iterable if condition]\n",
        "```\n",
        "\n",
        "expression → The value or transformation to include in the new list.\n",
        "\n",
        "item → Variable that takes each value from the iterable.\n",
        "\n",
        "iterable → A sequence (like a list, tuple, string, or range) to iterate over.\n",
        "\n",
        "condition (optional) → Filters which items are processed."
      ],
      "metadata": {
        "id": "enzLk5-_z40O"
      }
    },
    {
      "cell_type": "markdown",
      "source": [
        "## Basic Transformation"
      ],
      "metadata": {
        "id": "IIynuepA0yEc"
      }
    },
    {
      "cell_type": "code",
      "source": [
        "# Creating a list\n",
        "numbers = [2, 4, 6, 8, 10]\n",
        "\n",
        "# list comprehension\n",
        "squares = [i**2 for i in numbers]\n",
        "print(squares)\n"
      ],
      "metadata": {
        "colab": {
          "base_uri": "https://localhost:8080/"
        },
        "id": "AMcI_Tvk0hOg",
        "outputId": "d7ee256d-77ff-4b78-9923-bd69f3cef865"
      },
      "execution_count": 108,
      "outputs": [
        {
          "output_type": "stream",
          "name": "stdout",
          "text": [
            "[4, 16, 36, 64, 100]\n"
          ]
        }
      ]
    },
    {
      "cell_type": "markdown",
      "source": [
        "## With Condition (Filtering)\n",
        "\n"
      ],
      "metadata": {
        "id": "jKogpzp602LR"
      }
    },
    {
      "cell_type": "code",
      "source": [
        "# Creating a list\n",
        "numbers = [1, 2, 3, 4, 5, 6]\n",
        "\n",
        "# list comprehension with condition\n",
        "even_numbers = [i for i in numbers if i % 2 == 0]\n",
        "print(even_numbers)\n"
      ],
      "metadata": {
        "colab": {
          "base_uri": "https://localhost:8080/"
        },
        "id": "cfWIMj7Y1B5G",
        "outputId": "7b2aa1f6-db76-4de8-9094-5a2ff1390a49"
      },
      "execution_count": 109,
      "outputs": [
        {
          "output_type": "stream",
          "name": "stdout",
          "text": [
            "[2, 4, 6]\n"
          ]
        }
      ]
    },
    {
      "cell_type": "code",
      "source": [
        "# Creating a list\n",
        "numbers = [1, 2, 3, 4, 5, 6, 7, 8 , 9 , 10]\n",
        "\n",
        "# list comprehension with condition - oly finding squres of even numbers\n",
        "even_numbers = [i**2 for i in numbers if i % 2 == 0]\n",
        "print(even_numbers)\n"
      ],
      "metadata": {
        "colab": {
          "base_uri": "https://localhost:8080/"
        },
        "id": "wGTCcJgidbLz",
        "outputId": "1b53df6d-15d8-4123-a21c-5a89f4903223"
      },
      "execution_count": 115,
      "outputs": [
        {
          "output_type": "stream",
          "name": "stdout",
          "text": [
            "[4, 16, 36, 64, 100]\n"
          ]
        }
      ]
    },
    {
      "cell_type": "markdown",
      "source": [
        "## Uses of List Comprehensions\n",
        "\n",
        "###  Concise and Readable Code\n",
        "- Allows creating new lists in a **single line**.\n",
        "- Eliminates the need for multi-line `for` loops with `append()`.\n",
        "\n",
        "```python\n",
        "# Traditional\n",
        "squares = []\n",
        "for n in range(5):\n",
        "    squares.append(n**2)\n",
        "\n",
        "# List comprehension\n",
        "squares = [n**2 for n in range(5)]\n",
        "```\n",
        "\n",
        "### Combines Transformation and Filtering\n",
        "- Transform items and filter them in the same expression.\n",
        "\n",
        "```python\n",
        "\n",
        "even_squares = [n**2 for n in range(10) if n % 2 == 0]\n",
        "print(even_squares)  # [0, 4, 16, 36, 64]\n",
        "```"
      ],
      "metadata": {
        "id": "5d7FxSbX1MVJ"
      }
    },
    {
      "cell_type": "markdown",
      "source": [
        "#  Python Exception Handling\n",
        "- Exceptions are **errors** that occur during program execution.\n",
        "- Exception handling allows your program to **continue running** instead of crashing.\n",
        "- In Python, exceptions are handled using `try`, `except`, `else`, and `finally`.\n",
        "\n",
        "## **Syntax**\n",
        "```python\n",
        "try:\n",
        "    # Code that may raise an exception\n",
        "except ExceptionType:\n",
        "    # Code to handle the exception\n",
        "else:\n",
        "    # Code to run if no exception occurs (optional)\n",
        "finally:\n",
        "    # Code that runs no matter what (optional)\n",
        "```"
      ],
      "metadata": {
        "id": "bDnvVsVkfNd8"
      }
    },
    {
      "cell_type": "markdown",
      "source": [
        "## Practice"
      ],
      "metadata": {
        "id": "SboP_xYElBvc"
      }
    },
    {
      "cell_type": "code",
      "source": [
        "# If you enter anything other than number\n",
        "\n",
        "try:\n",
        "    num = int(input(\"Please enter a number: \"))\n",
        "    print(\"You entered:\", num)\n",
        "except ValueError:\n",
        "    print(\"That is not a valid number!\")\n"
      ],
      "metadata": {
        "colab": {
          "base_uri": "https://localhost:8080/"
        },
        "id": "hm_9cVXaejtj",
        "outputId": "e465aacf-fa91-4f19-e937-ad0a50587a50"
      },
      "execution_count": 118,
      "outputs": [
        {
          "output_type": "stream",
          "name": "stdout",
          "text": [
            "Please enter a number: noor\n",
            "That is not a valid number!\n"
          ]
        }
      ]
    },
    {
      "cell_type": "code",
      "source": [
        "# If you enter anything other than number or divide by zero\n",
        "\n",
        "try:\n",
        "    x = int(input(\"Please enter numerator: \"))\n",
        "    y = int(input(\"Please enter the denominator: \"))\n",
        "    result = x / y\n",
        "    print(\"Result: \", result)\n",
        "except ValueError:\n",
        "  print(\"Invalid number entered!\")\n",
        "except ZeroDivisionError:\n",
        "  print(\"Cannot divide by zero!\")\n"
      ],
      "metadata": {
        "colab": {
          "base_uri": "https://localhost:8080/"
        },
        "id": "9MXjvrA_gDMF",
        "outputId": "12afa696-089c-400e-8ba3-76db31b00d33"
      },
      "execution_count": 119,
      "outputs": [
        {
          "output_type": "stream",
          "name": "stdout",
          "text": [
            "Please enter numerator: 4\n",
            "Please enter the denominator: 0\n",
            "Cannot divide by zero\n"
          ]
        }
      ]
    },
    {
      "cell_type": "code",
      "source": [
        "\n",
        "try:\n",
        "    num = int(input(\"Enter a number: \"))\n",
        "except ValueError:\n",
        "    print(\"Invalid number!\")\n",
        "else:\n",
        "    print(\"You entered:\", num)\n"
      ],
      "metadata": {
        "colab": {
          "base_uri": "https://localhost:8080/"
        },
        "id": "UG78sW6QfWJN",
        "outputId": "ef3e70ae-d02e-48b2-d732-c49e829be595"
      },
      "execution_count": 123,
      "outputs": [
        {
          "output_type": "stream",
          "name": "stdout",
          "text": [
            "Enter a number: asl\n",
            "Invalid number!\n"
          ]
        }
      ]
    },
    {
      "cell_type": "code",
      "source": [
        "try:\n",
        "    f = open(\"test.txt\", \"w\")\n",
        "    f.write(\"Hello\")\n",
        "except Exception as e:\n",
        "    print(\"Error:\", e)\n",
        "finally:\n",
        "    f.close()\n",
        "    print(\"File closed.\")\n"
      ],
      "metadata": {
        "id": "eO4-Uy_7fbgu",
        "outputId": "8e982e09-874b-403e-f42e-d2591ad29077",
        "colab": {
          "base_uri": "https://localhost:8080/"
        }
      },
      "execution_count": 128,
      "outputs": [
        {
          "output_type": "stream",
          "name": "stdout",
          "text": [
            "File closed.\n"
          ]
        }
      ]
    },
    {
      "cell_type": "markdown",
      "source": [
        "## Uses of Exception Handling\n",
        "\n",
        "###  Prevent Program Crashes\n",
        "- Without exception handling, an error stops the entire program.\n",
        "- Using `try...except` allows the program to **continue running** even if an error occurs.\n",
        "\n",
        "```python\n",
        "try:\n",
        "    num = int(input(\"Enter a number: \"))\n",
        "    print(10 / num)\n",
        "except ZeroDivisionError:\n",
        "    print(\"You cannot divide by zero.\")\n",
        "```\n",
        "\n",
        "### Provide User-Friendly Error Messages\n",
        "Replace technical error messages with clear, helpful feedback.\n",
        "\n",
        "```python\n",
        "try:\n",
        "    file = open(\"data.txt\")\n",
        "except FileNotFoundError:\n",
        "    print(\"File not found. Please check the file name.\")\n",
        "```\n",
        "\n",
        "### Handle Specific Error Types\n",
        "Catch different exceptions and handle them differently.\n",
        "\n",
        "```python\n",
        "try:\n",
        "    num = int(\"abc\")\n",
        "except ValueError:\n",
        "    print(\"Invalid number format.\")\n",
        "```\n",
        "\n",
        "### Ensure Cleanup Actions\n",
        "The finally block runs whether an error occurs or not — useful for closing files, releasing resources, or cleaning temporary data.\n",
        "\n",
        "```python\n",
        "try:\n",
        "    file = open(\"data.txt\")\n",
        "    # Do something with the file\n",
        "finally:\n",
        "    file.close()\n",
        "```"
      ],
      "metadata": {
        "id": "4x5MWasL1d7v"
      }
    }
  ]
}