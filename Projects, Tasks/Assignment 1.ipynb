{
  "nbformat": 4,
  "nbformat_minor": 0,
  "metadata": {
    "colab": {
      "provenance": [],
      "toc_visible": true
    },
    "kernelspec": {
      "name": "python3",
      "display_name": "Python 3"
    },
    "language_info": {
      "name": "python"
    }
  },
  "cells": [
    {
      "cell_type": "markdown",
      "source": [
        " #  Variables\n",
        "1. Create a variable `name` to store your name and `age` to store your age. Print them in a\n",
        " sentence.\n"
      ],
      "metadata": {
        "id": "5HF0qkB02G-V"
      }
    },
    {
      "cell_type": "code",
      "source": [
        "# Creating variables\n",
        "\n",
        "name = \"Noor\"\n",
        "age = 24\n",
        "\n",
        "# Printing them in a sentence\n",
        "print(f\"My name is {name} and my age is {age}!\")\n"
      ],
      "metadata": {
        "colab": {
          "base_uri": "https://localhost:8080/"
        },
        "id": "7lNnapvc2eyD",
        "outputId": "c4e3eb00-44a2-4e7d-bbdc-76611de9e9f2"
      },
      "execution_count": 2,
      "outputs": [
        {
          "output_type": "stream",
          "name": "stdout",
          "text": [
            "My name is Noor and my age is 24!\n"
          ]
        }
      ]
    },
    {
      "cell_type": "markdown",
      "source": [
        "2. Swap the values of two variables `x` and `y` without using a third variable"
      ],
      "metadata": {
        "id": "VNQmk_ExT1pk"
      }
    },
    {
      "cell_type": "code",
      "source": [
        "# Creating 2 variables x and y\n",
        "x = 4\n",
        "y = 8\n",
        "\n",
        "# Printing their values\n",
        "print(\"Value of x: \", x )\n",
        "print(\"Value of y: \", y )\n",
        "print()\n",
        "\n",
        "x, y = y, x\n",
        "\n",
        "# Printing their new values\n",
        "print(\"Value of x: \", x )\n",
        "print(\"Value of y: \", y )\n"
      ],
      "metadata": {
        "colab": {
          "base_uri": "https://localhost:8080/"
        },
        "id": "_0q4wbcF211e",
        "outputId": "f22845e7-fff3-49e1-b778-46261848b751"
      },
      "execution_count": 4,
      "outputs": [
        {
          "output_type": "stream",
          "name": "stdout",
          "text": [
            "Value of x:  4\n",
            "Value of y:  8\n",
            "\n",
            "Value of x:  8\n",
            "Value of y:  4\n"
          ]
        }
      ]
    },
    {
      "cell_type": "markdown",
      "source": [
        "#   Operators\n",
        "1. Write a program that takes two numbers from the user and prints their sum, difference, product,\n",
        " and quotient.\n"
      ],
      "metadata": {
        "id": "LCIhxXQ-3_a9"
      }
    },
    {
      "cell_type": "code",
      "source": [
        "# Taking two numbers from user\n",
        "x = int(input(\" Please enter the first number: \"))\n",
        "y = int(input(\" Please enter the second number: \"))\n",
        "print()\n",
        "\n",
        "# Addition, subtraction, multiplication and quotient\n",
        "addition = x + y\n",
        "subtraction = x - y\n",
        "multiplication = x * y\n",
        "quotient = x // y\n",
        "\n",
        "# Printing them\n",
        "print(f\"The sum of {x} and {y} is {addition}\")\n",
        "print(f\"The difference of {x} and {y} is {subtraction}\")\n",
        "print(f\"The multiplication of {x} and {y} is {multiplication}\")\n",
        "print(f\"The quotient of {x} and {y} is {quotient}\")\n"
      ],
      "metadata": {
        "colab": {
          "base_uri": "https://localhost:8080/"
        },
        "id": "mKpTmUJ_43qx",
        "outputId": "d65cc269-4b14-4401-a594-41de6ffc35f4"
      },
      "execution_count": 8,
      "outputs": [
        {
          "output_type": "stream",
          "name": "stdout",
          "text": [
            " Please enter the first number: 13\n",
            " Please enter the second number: 5\n",
            "\n",
            "The sum of 13 and 5 is 18\n",
            "The difference of 13 and 5 is 8\n",
            "The multiplication of 13 and 5 is 65\n",
            "The quotient of 13 and 5 is 2\n"
          ]
        }
      ]
    },
    {
      "cell_type": "markdown",
      "source": [
        "2. Check if a number entered by the user is even or odd using the modulo (%) operator."
      ],
      "metadata": {
        "id": "y8zZRiQhT91i"
      }
    },
    {
      "cell_type": "code",
      "source": [
        "# Taking input from user\n",
        "num = int(input(\"Please enter a number: \"))\n",
        "\n",
        "# Condition for checking if number is even or odd\n",
        "if num % 2 == 0:\n",
        "  print(f\"{num} is even!\")\n",
        "else:\n",
        "  print(f\"{num} is odd!\")\n"
      ],
      "metadata": {
        "colab": {
          "base_uri": "https://localhost:8080/"
        },
        "id": "GNfwblBp6DWb",
        "outputId": "dbcf9741-20b8-4d7f-a27c-22f3fec36d2b"
      },
      "execution_count": 11,
      "outputs": [
        {
          "output_type": "stream",
          "name": "stdout",
          "text": [
            "Please enter a number: 4\n",
            "4 is even!\n"
          ]
        }
      ]
    },
    {
      "cell_type": "markdown",
      "source": [
        "#  Conditions\n",
        "1. Write a program to check if a person is eligible to vote (age ≥ 18).\n"
      ],
      "metadata": {
        "id": "SEr539l96p64"
      }
    },
    {
      "cell_type": "code",
      "source": [
        "# Taking age from the user\n",
        "age = int(input(\"Please enter your age: \"))\n",
        "\n",
        "# Applying condition to check if eligible for voting\n",
        "if age >= 18:\n",
        "    print(\"You are eligible to vote.\")\n",
        "else:\n",
        "    print(\"You are not eligible to vote.\")\n"
      ],
      "metadata": {
        "colab": {
          "base_uri": "https://localhost:8080/"
        },
        "id": "HzCACxku60U_",
        "outputId": "fd5409b5-4d18-49a8-c21c-33a19df560e8"
      },
      "execution_count": 13,
      "outputs": [
        {
          "output_type": "stream",
          "name": "stdout",
          "text": [
            "Please enter your age: 14\n",
            "You are not eligible to vote.\n"
          ]
        }
      ]
    },
    {
      "cell_type": "markdown",
      "source": [
        "2. Ask the user for a number and check: - If it’s positive - If it’s negative - If it’s zero"
      ],
      "metadata": {
        "id": "JwQBtC6UUGL2"
      }
    },
    {
      "cell_type": "code",
      "source": [
        "# Taking number from user\n",
        "num = int(input(\"Please enter a number: \"))\n",
        "\n",
        "# Condition to check if its +, - or 0\n",
        "if num == 0:\n",
        "  print(f\"{num} is zero!\")\n",
        "elif num > 0:\n",
        "  print(f\"{num} is positive!\")\n",
        "else:\n",
        "  print(f\"{num} is negative!\")\n",
        ""
      ],
      "metadata": {
        "colab": {
          "base_uri": "https://localhost:8080/"
        },
        "id": "-zy1Hqgx7ZO4",
        "outputId": "31728e1f-b3bc-4760-8c93-bc8d55bcb6db"
      },
      "execution_count": 17,
      "outputs": [
        {
          "output_type": "stream",
          "name": "stdout",
          "text": [
            "Please enter a number: -17\n",
            "-17 is negative!\n"
          ]
        }
      ]
    },
    {
      "cell_type": "markdown",
      "source": [
        "# Loops\n",
        "1. Print numbers from 1 to 10 using a `for` loop.\n"
      ],
      "metadata": {
        "id": "NeGO3gI28IjI"
      }
    },
    {
      "cell_type": "code",
      "source": [
        "# Printing numbers using for loop\n",
        "\n",
        "for i in range(1, 11):\n",
        "  print(i)\n"
      ],
      "metadata": {
        "colab": {
          "base_uri": "https://localhost:8080/"
        },
        "id": "lYBS2ctm8OWw",
        "outputId": "0cf60a2d-c876-4fd2-94d2-201a8a83e406"
      },
      "execution_count": 18,
      "outputs": [
        {
          "output_type": "stream",
          "name": "stdout",
          "text": [
            "1\n",
            "2\n",
            "3\n",
            "4\n",
            "5\n",
            "6\n",
            "7\n",
            "8\n",
            "9\n",
            "10\n"
          ]
        }
      ]
    },
    {
      "cell_type": "markdown",
      "source": [
        "2. Print the multiplication table of any number entered by the user.\n"
      ],
      "metadata": {
        "id": "OQgIWhuqUQB4"
      }
    },
    {
      "cell_type": "code",
      "source": [
        "# Taking number from the user\n",
        "number = int(input(\"Please enter a number: \"))\n",
        "\n",
        "# for loop for generating table\n",
        "for i in range(1, 11):\n",
        "  print(f\"{number} × {i} =\", number * i)\n",
        ""
      ],
      "metadata": {
        "colab": {
          "base_uri": "https://localhost:8080/"
        },
        "id": "HbZsMWgB8cVV",
        "outputId": "4e093ec3-4be9-4834-b0fb-7673830d37cf"
      },
      "execution_count": 23,
      "outputs": [
        {
          "output_type": "stream",
          "name": "stdout",
          "text": [
            "Please enter a number: 9\n",
            "9 × 1 = 9\n",
            "9 × 2 = 18\n",
            "9 × 3 = 27\n",
            "9 × 4 = 36\n",
            "9 × 5 = 45\n",
            "9 × 6 = 54\n",
            "9 × 7 = 63\n",
            "9 × 8 = 72\n",
            "9 × 9 = 81\n",
            "9 × 10 = 90\n"
          ]
        }
      ]
    },
    {
      "cell_type": "markdown",
      "source": [
        "3. Write a program that sums all numbers from 1 to n (user input) using a loop"
      ],
      "metadata": {
        "id": "82J5we4mUVK2"
      }
    },
    {
      "cell_type": "code",
      "source": [
        "# Take a number from user\n",
        "number = int(input(\"Enter a number: \"))\n",
        "total = 0\n",
        "\n",
        "# Condition for printing from 1 to number\n",
        "for i in range(1, number+1):\n",
        "    total += i\n",
        "\n",
        "# Printing sum of all numbers\n",
        "print(f\"Sum of numbers from 1 to {number} is :\" , total)\n"
      ],
      "metadata": {
        "colab": {
          "base_uri": "https://localhost:8080/"
        },
        "id": "ZYLeJSLVA5Pl",
        "outputId": "154dcddb-51d6-492e-d25a-f73cf6ca63ce"
      },
      "execution_count": 32,
      "outputs": [
        {
          "output_type": "stream",
          "name": "stdout",
          "text": [
            "Enter a number: 7\n",
            "Sum of numbers from 1 to 7 is : 28\n"
          ]
        }
      ]
    },
    {
      "cell_type": "markdown",
      "source": [
        "# Functions\n",
        "1. Write a function `greet(name)` that prints 'Hello, !'.\n"
      ],
      "metadata": {
        "id": "-w_EqKz5D_BJ"
      }
    },
    {
      "cell_type": "code",
      "source": [
        "# Creating a greet() function\n",
        "def greet(name):\n",
        "   print(f\"Hello, {name}!\")\n",
        "\n",
        "# Assigning the value\n",
        "greet(\"Noor\")\n"
      ],
      "metadata": {
        "colab": {
          "base_uri": "https://localhost:8080/"
        },
        "id": "LwdEgR1EEHgj",
        "outputId": "4d148ef8-2ee7-496d-8b41-0840100ebf1e"
      },
      "execution_count": 34,
      "outputs": [
        {
          "output_type": "stream",
          "name": "stdout",
          "text": [
            "Hello, Noor!\n"
          ]
        }
      ]
    },
    {
      "cell_type": "markdown",
      "source": [
        "2. Write a function `is_prime(n)` that returns True if the number is prime, otherwise False"
      ],
      "metadata": {
        "id": "_eT2K-TaUvFX"
      }
    },
    {
      "cell_type": "code",
      "source": [
        "# A function to check if the value is prime\n",
        "def is_prime(n):\n",
        "  if n < 2:\n",
        "        return False\n",
        "\n",
        "  for i in range(2, n):\n",
        "        if n % i == 0:\n",
        "            return False\n",
        "\n",
        "  return True\n",
        "\n",
        "# Checking\n",
        "print(is_prime(8))\n",
        "print(is_prime(7))\n",
        "print(is_prime(11))\n"
      ],
      "metadata": {
        "colab": {
          "base_uri": "https://localhost:8080/"
        },
        "id": "PwWFjSCrFgVR",
        "outputId": "7e58fb4a-9b4b-4a26-a051-73356290a632"
      },
      "execution_count": 42,
      "outputs": [
        {
          "output_type": "stream",
          "name": "stdout",
          "text": [
            "False\n",
            "True\n",
            "True\n"
          ]
        }
      ]
    },
    {
      "cell_type": "markdown",
      "source": [
        "# Lists\n",
        "1. Create a list of 5 fruits and print the second and last fruit.\n"
      ],
      "metadata": {
        "id": "F-arukh4Iek_"
      }
    },
    {
      "cell_type": "code",
      "source": [
        "# Creating a list of 5 fruits\n",
        "fruits = [\"Banana\", \"Apple\", \"Mango\", \"Watermelon\", \"Grapes\"]\n",
        "\n",
        "# Printing the second and last fruit\n",
        "print(\"First fruit in the list: \", fruits[0])\n",
        "print(\"Last fruit in the list: \", fruits[-1])\n"
      ],
      "metadata": {
        "colab": {
          "base_uri": "https://localhost:8080/"
        },
        "id": "Z6kV9N3lJ-Jd",
        "outputId": "667751a4-6d95-4c90-dcea-31e0c4acaba6"
      },
      "execution_count": 47,
      "outputs": [
        {
          "output_type": "stream",
          "name": "stdout",
          "text": [
            "First fruit in the list:  Banana\n",
            "Last fruit in the list:  Grapes\n"
          ]
        }
      ]
    },
    {
      "cell_type": "markdown",
      "source": [
        "2. Add a new fruit to the list, then remove the first fruit from the list.\n"
      ],
      "metadata": {
        "id": "BUSurI_LU3Fp"
      }
    },
    {
      "cell_type": "code",
      "source": [
        "# Creating a list of 5 fruits\n",
        "fruits = [\"Banana\", \"Apple\", \"Mango\", \"Watermelon\", \"Grapes\"]\n",
        "print(\"Original List: \", fruits)\n",
        "print()\n",
        "\n",
        "# Adding new fruit to the list and removing the last fruit\n",
        "fruits.append(\"Peach\")\n",
        "print(\"Updated List after adding Peach: \", fruits)\n",
        "print()\n",
        "\n",
        "fruits.remove(fruits[-1])\n",
        "print(\"Updated List after removing last Fruit: \", fruits)\n"
      ],
      "metadata": {
        "colab": {
          "base_uri": "https://localhost:8080/"
        },
        "id": "X5QU_270KgzB",
        "outputId": "6cf28c74-6370-46d4-e336-994516ea0786"
      },
      "execution_count": 56,
      "outputs": [
        {
          "output_type": "stream",
          "name": "stdout",
          "text": [
            "Original List:  ['Banana', 'Apple', 'Mango', 'Watermelon', 'Grapes']\n",
            "\n",
            "Updated List after adding Peach:  ['Banana', 'Apple', 'Mango', 'Watermelon', 'Grapes', 'Peach']\n",
            "\n",
            "Updated List after removing last Fruit:  ['Banana', 'Apple', 'Mango', 'Watermelon', 'Grapes']\n"
          ]
        }
      ]
    },
    {
      "cell_type": "markdown",
      "source": [
        "3. Find the maximum and minimum number in a list of integers."
      ],
      "metadata": {
        "id": "N9pF3TMCU8zf"
      }
    },
    {
      "cell_type": "code",
      "source": [
        "# Making a list of integers\n",
        "\n",
        "nums = [1, 4, 7, 5, 9, 0]\n",
        "\n",
        "# Finding Max and Min number in list\n",
        "print(\"Maximum Numbr in list: \", max(nums))\n",
        "print(\"Minimum Numbr in list: \", min(nums))\n"
      ],
      "metadata": {
        "colab": {
          "base_uri": "https://localhost:8080/"
        },
        "id": "CpwJPz69Ln5L",
        "outputId": "3bc5a041-8efc-42ba-d2fe-1454b9224590"
      },
      "execution_count": 59,
      "outputs": [
        {
          "output_type": "stream",
          "name": "stdout",
          "text": [
            "Maximum Numbr in list:  9\n",
            "Minimum Numbr in list:  0\n"
          ]
        }
      ]
    },
    {
      "cell_type": "markdown",
      "source": [
        "#   Dictionary\n",
        "1. Create a dictionary with keys: 'name', 'age', 'city' and store your details. Print the dictionary.\n"
      ],
      "metadata": {
        "id": "WVpghYuAMQi4"
      }
    },
    {
      "cell_type": "code",
      "source": [
        "# Making a dictionary\n",
        "person = {\n",
        "    \"name\": \"Noor\",\n",
        "    \"age\": 25,\n",
        "    \"city\": \"Rawalpindi\"\n",
        "}\n",
        "\n",
        "# Printing the dictionary\n",
        "print(\"Dictionary:\", person)\n"
      ],
      "metadata": {
        "colab": {
          "base_uri": "https://localhost:8080/"
        },
        "id": "gY1_-3TlMevs",
        "outputId": "5daed958-17a0-4bae-d6fc-1bfe19301b7f"
      },
      "execution_count": 63,
      "outputs": [
        {
          "output_type": "stream",
          "name": "stdout",
          "text": [
            "Dictionary: {'name': 'Noor', 'age': 25, 'city': 'Rawalpindi'}\n"
          ]
        }
      ]
    },
    {
      "cell_type": "markdown",
      "source": [
        "2. Add a new key 'country' to the dictionary.\n"
      ],
      "metadata": {
        "id": "W3CieRUAVNu3"
      }
    },
    {
      "cell_type": "code",
      "source": [
        "# Making a dictionary\n",
        "person = {\n",
        "    \"name\": \"Noor\",\n",
        "    \"age\": 25,\n",
        "    \"city\": \"Rawalpindi\"\n",
        "}\n",
        "\n",
        "# Adding new key 'country' to the dictionary\n",
        "person[\"country\"] = \"Pakistan\"\n",
        "\n",
        "# Printing the dictionary\n",
        "print(\"Dictionary:\", person)\n"
      ],
      "metadata": {
        "colab": {
          "base_uri": "https://localhost:8080/"
        },
        "id": "7UVSNoqFNDLG",
        "outputId": "8ca25792-fa50-40c3-9d2e-f2e89930801d"
      },
      "execution_count": 64,
      "outputs": [
        {
          "output_type": "stream",
          "name": "stdout",
          "text": [
            "Dictionary: {'name': 'Noor', 'age': 25, 'city': 'Rawalpindi', 'country': 'Pakistan'}\n"
          ]
        }
      ]
    },
    {
      "cell_type": "markdown",
      "source": [
        "3. Write a program to count the frequency of each character in a string and store the result in a dictionary."
      ],
      "metadata": {
        "id": "hLsRwCUMVSWL"
      }
    },
    {
      "cell_type": "code",
      "source": [
        "# Taking input from user\n",
        "text = input(\"Enter a string: \")\n",
        "result = {}       # To store characters in dictionary\n",
        "\n",
        "for char in text:\n",
        "    if char in result:\n",
        "        result[char] += 1\n",
        "    else:\n",
        "        result[char] = 1\n",
        "\n",
        "print(result)\n"
      ],
      "metadata": {
        "colab": {
          "base_uri": "https://localhost:8080/"
        },
        "id": "UASu_-tZOTM4",
        "outputId": "89bea6cd-7750-46cd-aebd-50134b4400d1"
      },
      "execution_count": 66,
      "outputs": [
        {
          "output_type": "stream",
          "name": "stdout",
          "text": [
            "Enter a string: noorulhuda\n",
            "{'n': 1, 'o': 2, 'r': 1, 'u': 2, 'l': 1, 'h': 1, 'd': 1, 'a': 1}\n"
          ]
        }
      ]
    },
    {
      "cell_type": "markdown",
      "source": [
        "#  Set\n",
        "1. Create two sets of numbers and: - Find their union - Find their intersection - Find the difference between them\n"
      ],
      "metadata": {
        "id": "MvzUuHZXPP7y"
      }
    },
    {
      "cell_type": "code",
      "source": [
        "# Creating two sets of numbers\n",
        "set1 = {1, 2, 3, 4, 5}\n",
        "set2 = {4, 5, 6, 7, 8}\n",
        "\n",
        "# Finding Union\n",
        "union_sets = set1 | set2\n",
        "print(\"Union of Two Sets:\", union_sets)\n",
        "print()\n",
        "\n",
        "# Finding Intersection\n",
        "intersection_sets = set1.intersection(set2)\n",
        "print(\"Intersection of Two Sets:\", intersection_sets)\n",
        "print()\n",
        "\n",
        "# Finding Difference\n",
        "difference_sets = set1.difference(set2)\n",
        "print(\"Difference of Two Sets:\", difference_sets)\n"
      ],
      "metadata": {
        "colab": {
          "base_uri": "https://localhost:8080/"
        },
        "id": "-ZXRGewiPZgl",
        "outputId": "168a8f7a-90f9-4758-f62b-b11961fbe99b"
      },
      "execution_count": 68,
      "outputs": [
        {
          "output_type": "stream",
          "name": "stdout",
          "text": [
            "Union of Two Sets: {1, 2, 3, 4, 5, 6, 7, 8}\n",
            "\n",
            "Intersection of Two Sets: {4, 5}\n",
            "\n",
            "Difference of Two Sets: {1, 2, 3}\n"
          ]
        }
      ]
    },
    {
      "cell_type": "markdown",
      "source": [
        "2. Write a program to remove duplicates from a list using a set"
      ],
      "metadata": {
        "id": "0KivAhQ9VlXY"
      }
    },
    {
      "cell_type": "code",
      "source": [
        "# Creating a list\n",
        "myList = [1, 2, 3, 4, 5, 3, 4, 1, 9]\n",
        "print(\"List with Duplicates: \", myList)\n",
        "\n",
        "# Removing duplicates by using list\n",
        "mySet = set(myList)\n",
        "\n",
        "# Changing back to list\n",
        "myList = list(mySet)\n",
        "print(\"List without Duplicates: \", myList)\n"
      ],
      "metadata": {
        "colab": {
          "base_uri": "https://localhost:8080/"
        },
        "id": "_XyWNWkyQTTC",
        "outputId": "149adf86-7673-4662-e061-19bf9839842a"
      },
      "execution_count": 72,
      "outputs": [
        {
          "output_type": "stream",
          "name": "stdout",
          "text": [
            "List with Duplicates:  [1, 2, 3, 4, 5, 3, 4, 1, 9]\n",
            "List without Duplicates:  [1, 2, 3, 4, 5, 9]\n"
          ]
        }
      ]
    },
    {
      "cell_type": "markdown",
      "source": [
        "#  Tuples\n",
        "1. Create a tuple with at least 5 numbers and print the first and last elements.\n"
      ],
      "metadata": {
        "id": "0UC3lRXfRRoV"
      }
    },
    {
      "cell_type": "code",
      "source": [
        "# Creating a tuple with atleast 5 numbers\n",
        "myTuple = (1, 2, 6, 4, 5, 8, 9)\n",
        "\n",
        "# Printing the first and last element\n",
        "print(\"First Element in Tuple: \", myTuple[0])\n",
        "print(\"Last Element in Tuple: \", myTuple[-1])\n"
      ],
      "metadata": {
        "colab": {
          "base_uri": "https://localhost:8080/"
        },
        "id": "1hyUktcORY_q",
        "outputId": "3bec4417-8cc2-4833-c6e9-3b3455d36d47"
      },
      "execution_count": 74,
      "outputs": [
        {
          "output_type": "stream",
          "name": "stdout",
          "text": [
            "First Element in Tuple:  1\n",
            "Last Element in Tuple:  9\n"
          ]
        }
      ]
    },
    {
      "cell_type": "markdown",
      "source": [
        "2. Write a program to check if a given element exists in a tuple."
      ],
      "metadata": {
        "id": "WmICT-eGVtLK"
      }
    },
    {
      "cell_type": "code",
      "source": [
        "# Creating a tuple of fruits\n",
        "fruits = (\"Banana\", \"Apple\", \"Mango\", \"Watermelon\", \"Grapes\")\n",
        "\n",
        "# Condition for membership\n",
        "if \"Watermelon\" in fruits:\n",
        "    print(\"Watermelon is in the tuple!\")\n",
        "else:\n",
        "    print(\"Watermelon is not in the tuple!\")\n"
      ],
      "metadata": {
        "colab": {
          "base_uri": "https://localhost:8080/"
        },
        "id": "E1-LMJm1SGM6",
        "outputId": "927d48a9-b0ed-4b99-a89d-480704f111b9"
      },
      "execution_count": 77,
      "outputs": [
        {
          "output_type": "stream",
          "name": "stdout",
          "text": [
            "Watermelon is in the tuple!\n"
          ]
        }
      ]
    },
    {
      "cell_type": "markdown",
      "source": [
        "#  Exception Handling\n",
        "1. Write a program to divide two numbers, but handle the ZeroDivisionError.\n"
      ],
      "metadata": {
        "id": "qLKvbmveSjQr"
      }
    },
    {
      "cell_type": "code",
      "source": [
        "# Making the try statements\n",
        "try:\n",
        "  num1 = int(input(\"Please enter the numerator: \"))\n",
        "  num2 = int(input(\"Please enter the denominator: \"))\n",
        "  result = num1 / num2\n",
        "  print(\"Division of two numbers: \", result)\n",
        "\n",
        "except ZeroDivisionError:\n",
        "  print(\"Division by zero is not allowed!\")\n"
      ],
      "metadata": {
        "colab": {
          "base_uri": "https://localhost:8080/"
        },
        "id": "5Xqfc_UKSrI9",
        "outputId": "bdd8d79a-b850-4a31-9058-dab0fe1fc5e4"
      },
      "execution_count": 80,
      "outputs": [
        {
          "output_type": "stream",
          "name": "stdout",
          "text": [
            "Please enter the numerator: 9\n",
            "Please enter the denominator: 0\n",
            "Division by zero is not allowed!\n"
          ]
        }
      ]
    },
    {
      "cell_type": "markdown",
      "source": [
        "2. Write a program that asks for a number from the user, and handles the case when the user enters something that is not a number (ValueError)"
      ],
      "metadata": {
        "id": "ZtbaLRgYV19c"
      }
    },
    {
      "cell_type": "code",
      "source": [
        "# Making the try statements\n",
        "try:\n",
        "  num = int(input(\"Please enter the numerator: \"))\n",
        "  print(\"You entered: \", num)\n",
        "\n",
        "except ValueError:\n",
        "  print(\"You entered a non-numeric value!\")\n",
        ""
      ],
      "metadata": {
        "colab": {
          "base_uri": "https://localhost:8080/"
        },
        "id": "_Hp9YbzDTUgs",
        "outputId": "861c9280-837b-4fa9-970f-cdffa1613a3f"
      },
      "execution_count": 81,
      "outputs": [
        {
          "output_type": "stream",
          "name": "stdout",
          "text": [
            "Please enter the numerator: noor\n",
            "You entered a non-numeric value!\n"
          ]
        }
      ]
    }
  ]
}